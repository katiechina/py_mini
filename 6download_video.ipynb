{
 "cells": [
  {
   "cell_type": "markdown",
   "metadata": {},
   "source": [
    "## Two steps to download a video use only URL\n",
    "\n",
    "> pip install you-get\n",
    "\n",
    "> you-get 'the url that has the video content'\n"
   ]
  },
  {
   "cell_type": "markdown",
   "metadata": {},
   "source": [
    "[you-get documentation](https://github.com/soimort/you-get)"
   ]
  },
  {
   "cell_type": "code",
   "execution_count": null,
   "metadata": {},
   "outputs": [],
   "source": [
    "!pip install you-get"
   ]
  },
  {
   "cell_type": "code",
   "execution_count": null,
   "metadata": {},
   "outputs": [],
   "source": [
    "!you-get 'https://www.bilibili.com/video/BV1yK4y1G7Ka'"
   ]
  },
  {
   "cell_type": "code",
   "execution_count": null,
   "metadata": {},
   "outputs": [],
   "source": [
    "!you-get -i 'https://www.youtube.com/watch?v=8moWQ1561FY&t=171'"
   ]
  },
  {
   "cell_type": "code",
   "execution_count": null,
   "metadata": {},
   "outputs": [],
   "source": [
    "!you-get --itag=18 'https://www.youtube.com/watch?v=3amLsamhtCg&list=PL5QAQBV5zCqXqrXaWACI3ZACs5XgWPJup&index=2'"
   ]
  },
  {
   "cell_type": "code",
   "execution_count": null,
   "metadata": {},
   "outputs": [],
   "source": []
  },
  {
   "cell_type": "markdown",
   "metadata": {},
   "source": [
    "## Download mutiple videos\n",
    "## 批量下载视频"
   ]
  },
  {
   "cell_type": "code",
   "execution_count": null,
   "metadata": {},
   "outputs": [],
   "source": []
  },
  {
   "cell_type": "code",
   "execution_count": 29,
   "metadata": {},
   "outputs": [
    {
     "name": "stdout",
     "output_type": "stream",
     "text": [
      "url_qrcode.png\n",
      "voice.mp3\n",
      "\n"
     ]
    }
   ],
   "source": [
    "import os\n",
    " \n",
    "f=os.popen(\"ls output\")  # 返回的是一个文件对象\n",
    "print(f.read()) "
   ]
  },
  {
   "cell_type": "code",
   "execution_count": 30,
   "metadata": {},
   "outputs": [
    {
     "name": "stdout",
     "output_type": "stream",
     "text": [
      "site:                Bilibili\n",
      "title:               Anthony Hopkins : No Regrets Speech | 安东尼·霍普金斯：人生没有遗憾\n",
      "stream:\n",
      "    - format:        \u001b[7mflv480\u001b[0m\n",
      "      container:     flv\n",
      "      quality:       清晰 480P\n",
      "      size:          3.0 MiB (3154005 bytes)\n",
      "    # download-with: \u001b[4myou-get --format=flv480 [URL]\u001b[0m\n",
      "\n",
      "Downloading Anthony Hopkins - No Regrets Speech - 安东尼·霍普金斯：人生没有遗憾.flv ...\n",
      "\n",
      " 0.0% (  0.0/  3.0MB) ├────────────────────────────────────────┤[1/1] \n",
      " 8.3% (  0.2/  3.0MB) ├████────────────────────────────────────┤[1/1]  245 kB/s\n",
      "16.6% (  0.5/  3.0MB) ├███████─────────────────────────────────┤[1/1]  293 kB/s\n",
      "24.9% (  0.8/  3.0MB) ├██████████──────────────────────────────┤[1/1]  323 kB/s\n",
      "33.2% (  1.0/  3.0MB) ├██████████████──────────────────────────┤[1/1]  253 kB/s\n",
      "41.6% (  1.2/  3.0MB) ├█████████████████───────────────────────┤[1/1]  318 kB/s\n",
      "49.9% (  1.5/  3.0MB) ├████████████████████────────────────────┤[1/1]  250 kB/s\n",
      "58.2% (  1.8/  3.0MB) ├████████████████████████────────────────┤[1/1]  334 kB/s\n",
      "66.5% (  2.0/  3.0MB) ├███████████████████████████─────────────┤[1/1]  284 kB/s\n",
      "74.8% (  2.2/  3.0MB) ├██████████████████████████████──────────┤[1/1]  253 kB/s\n",
      "83.1% (  2.5/  3.0MB) ├██████████████████████████████████──────┤[1/1]  297 kB/s\n",
      "91.4% (  2.8/  3.0MB) ├█████████████████████████████████████───┤[1/1]  309 kB/s\n",
      "99.7% (  3.0/  3.0MB) ├████████████████████████████████████████┤[1/1]    1 MB/s\n",
      " 100% (  3.0/  3.0MB) ├████████████████████████████████████████┤[1/1]   13 MB/s\n",
      "\n",
      "Downloading Anthony Hopkins - No Regrets Speech - 安东尼·霍普金斯：人生没有遗憾.cmt.xml ...\n",
      "\n",
      "\n"
     ]
    }
   ],
   "source": [
    "f=os.popen(\"you-get -o ./output 'https://www.bilibili.com/video/BV1yK4y1G7Ka'\")  # 返回的是一个文件对象\n",
    "print(f.read()) "
   ]
  },
  {
   "cell_type": "code",
   "execution_count": 34,
   "metadata": {},
   "outputs": [
    {
     "data": {
      "text/plain": [
       "0"
      ]
     },
     "execution_count": 34,
     "metadata": {},
     "output_type": "execute_result"
    }
   ],
   "source": [
    "import os\n",
    "\n",
    "# os.system(\"touch a\")\n",
    "os.system(\"ls\")"
   ]
  },
  {
   "cell_type": "code",
   "execution_count": 35,
   "metadata": {},
   "outputs": [
    {
     "data": {
      "text/plain": [
       "0"
      ]
     },
     "execution_count": 35,
     "metadata": {},
     "output_type": "execute_result"
    }
   ],
   "source": [
    "os.system(\"you-get -o ./output 'https://www.bilibili.com/video/BV1yK4y1G7Ka'\")"
   ]
  },
  {
   "cell_type": "code",
   "execution_count": null,
   "metadata": {},
   "outputs": [],
   "source": []
  },
  {
   "cell_type": "code",
   "execution_count": 36,
   "metadata": {},
   "outputs": [
    {
     "name": "stdout",
     "output_type": "stream",
     "text": [
      "finish download one video!\n",
      "finish download one video!\n"
     ]
    }
   ],
   "source": [
    "import os\n",
    "\n",
    "url_list = [\"https://www.bilibili.com/video/BV1yK4y1G7Ka\",\n",
    "            \"https://www.bilibili.com/video/BV1cf4y1Y7CE?p=1\",\n",
    "#             \"https://www.bilibili.com/video/BV1cf4y1Y7CE?p=2\",\n",
    "#             \"https://www.bilibili.com/video/BV1cf4y1Y7CE?p=3\",\n",
    "           ]\n",
    "\n",
    "for url in url_list:\n",
    "    os.system(f\"you-get -o ./output {url}\")\n",
    "    print(\"finish download one video!\")"
   ]
  },
  {
   "cell_type": "code",
   "execution_count": null,
   "metadata": {},
   "outputs": [],
   "source": []
  },
  {
   "cell_type": "code",
   "execution_count": null,
   "metadata": {},
   "outputs": [],
   "source": []
  },
  {
   "cell_type": "code",
   "execution_count": null,
   "metadata": {},
   "outputs": [],
   "source": []
  },
  {
   "cell_type": "code",
   "execution_count": null,
   "metadata": {},
   "outputs": [],
   "source": []
  },
  {
   "cell_type": "code",
   "execution_count": 37,
   "metadata": {},
   "outputs": [],
   "source": [
    "import os \n",
    "url = \"https://www.bilibili.com/video/BV1cf4y1Y7CE?p=\"\n",
    "\n",
    "for i in range(1,3):\n",
    "    os.system(f\"you-get -o ./output {url+str(i)}\")"
   ]
  },
  {
   "cell_type": "code",
   "execution_count": 38,
   "metadata": {},
   "outputs": [
    {
     "name": "stdout",
     "output_type": "stream",
     "text": [
      "download video P32 \n"
     ]
    }
   ],
   "source": [
    "for i in [32]:\n",
    "    os.system(f\"you-get -o ./output {url+str(i)}\")\n",
    "    print(f\"download video P{i} \")"
   ]
  },
  {
   "cell_type": "code",
   "execution_count": null,
   "metadata": {},
   "outputs": [],
   "source": []
  }
 ],
 "metadata": {
  "kernelspec": {
   "display_name": "Python 3",
   "language": "python",
   "name": "python3"
  },
  "language_info": {
   "codemirror_mode": {
    "name": "ipython",
    "version": 3
   },
   "file_extension": ".py",
   "mimetype": "text/x-python",
   "name": "python",
   "nbconvert_exporter": "python",
   "pygments_lexer": "ipython3",
   "version": "3.7.7"
  }
 },
 "nbformat": 4,
 "nbformat_minor": 4
}
