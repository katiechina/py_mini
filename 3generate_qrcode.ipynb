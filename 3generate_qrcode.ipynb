{
 "cells": [
  {
   "cell_type": "code",
   "execution_count": 1,
   "metadata": {},
   "outputs": [
    {
     "name": "stdout",
     "output_type": "stream",
     "text": [
      "Requirement already satisfied: qrcode in /Users/katie/.pyenv/versions/3.7.7/envs/lewagon/lib/python3.7/site-packages (6.1)\n",
      "Requirement already satisfied: six in /Users/katie/.pyenv/versions/3.7.7/envs/lewagon/lib/python3.7/site-packages (from qrcode) (1.15.0)\n"
     ]
    }
   ],
   "source": [
    "!pip install qrcode"
   ]
  },
  {
   "cell_type": "markdown",
   "metadata": {},
   "source": [
    "[qrcode documentation](https://pypi.org/project/qrcode/)"
   ]
  },
  {
   "cell_type": "code",
   "execution_count": 2,
   "metadata": {},
   "outputs": [],
   "source": [
    "import qrcode\n",
    "img = qrcode.make('Some websites')\n",
    "img.show()"
   ]
  },
  {
   "cell_type": "code",
   "execution_count": 6,
   "metadata": {},
   "outputs": [
    {
     "name": "stdout",
     "output_type": "stream",
     "text": [
      "[b'https://www.bilibili.com/']\n"
     ]
    }
   ],
   "source": [
    "import qrcode\n",
    "\n",
    "input_URL = \"https://www.bilibili.com/\"\n",
    "\n",
    "qr = qrcode.QRCode(\n",
    "    version=1,\n",
    "    error_correction=qrcode.constants.ERROR_CORRECT_L,\n",
    "    box_size=10,\n",
    "    border=4,\n",
    ")\n",
    "\n",
    "qr.add_data(input_URL)\n",
    "qr.make(fit=True)\n",
    "\n",
    "img = qr.make_image(fill_color=\"red\", back_color=\"white\")\n",
    "img.save(\"./output/url_qrcode.png\")\n",
    "\n",
    "print(qr.data_list)"
   ]
  },
  {
   "cell_type": "code",
   "execution_count": 5,
   "metadata": {},
   "outputs": [
    {
     "name": "stdout",
     "output_type": "stream",
     "text": [
      "cartoonify.ipynb       the_road_not_taken.txt voice.mp3\n",
      "generate_qrcode.ipynb  txtToMp3.ipynb         voice_recorder.ipynb\n",
      "\u001b[1m\u001b[36mimage\u001b[m\u001b[m                  url_qrcode.png\n"
     ]
    }
   ],
   "source": [
    "!ls output"
   ]
  },
  {
   "cell_type": "code",
   "execution_count": null,
   "metadata": {},
   "outputs": [],
   "source": []
  }
 ],
 "metadata": {
  "kernelspec": {
   "display_name": "Python 3",
   "language": "python",
   "name": "python3"
  },
  "language_info": {
   "codemirror_mode": {
    "name": "ipython",
    "version": 3
   },
   "file_extension": ".py",
   "mimetype": "text/x-python",
   "name": "python",
   "nbconvert_exporter": "python",
   "pygments_lexer": "ipython3",
   "version": "3.7.7"
  }
 },
 "nbformat": 4,
 "nbformat_minor": 4
}
