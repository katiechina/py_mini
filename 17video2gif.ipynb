{
 "cells": [
  {
   "cell_type": "markdown",
   "metadata": {},
   "source": [
    "# Use python to generate gif form video\n",
    "# 使用Python将视频转换成gif"
   ]
  },
  {
   "cell_type": "code",
   "execution_count": 1,
   "metadata": {},
   "outputs": [
    {
     "name": "stdout",
     "output_type": "stream",
     "text": [
      "Requirement already satisfied: MoviePy in /Users/katie/.pyenv/versions/3.7.7/envs/lewagon/lib/python3.7/site-packages (1.0.3)\n",
      "Requirement already satisfied: requests<3.0,>=2.8.1 in /Users/katie/.pyenv/versions/3.7.7/envs/lewagon/lib/python3.7/site-packages (from MoviePy) (2.24.0)\n",
      "Requirement already satisfied: tqdm<5.0,>=4.11.2 in /Users/katie/.pyenv/versions/3.7.7/envs/lewagon/lib/python3.7/site-packages (from MoviePy) (4.47.0)\n",
      "Requirement already satisfied: decorator<5.0,>=4.0.2 in /Users/katie/.pyenv/versions/3.7.7/envs/lewagon/lib/python3.7/site-packages (from MoviePy) (4.4.2)\n",
      "Requirement already satisfied: numpy>=1.17.3 in /Users/katie/.pyenv/versions/3.7.7/envs/lewagon/lib/python3.7/site-packages (from MoviePy) (1.18.4)\n",
      "Requirement already satisfied: imageio-ffmpeg>=0.2.0 in /Users/katie/.pyenv/versions/3.7.7/envs/lewagon/lib/python3.7/site-packages (from MoviePy) (0.4.4)\n",
      "Requirement already satisfied: proglog<=1.0.0 in /Users/katie/.pyenv/versions/3.7.7/envs/lewagon/lib/python3.7/site-packages (from MoviePy) (0.1.9)\n",
      "Requirement already satisfied: imageio<3.0,>=2.5 in /Users/katie/.pyenv/versions/3.7.7/envs/lewagon/lib/python3.7/site-packages (from MoviePy) (2.9.0)\n",
      "Requirement already satisfied: pillow in /Users/katie/.pyenv/versions/3.7.7/envs/lewagon/lib/python3.7/site-packages (from imageio<3.0,>=2.5->MoviePy) (7.2.0)\n",
      "Requirement already satisfied: certifi>=2017.4.17 in /Users/katie/.pyenv/versions/3.7.7/envs/lewagon/lib/python3.7/site-packages (from requests<3.0,>=2.8.1->MoviePy) (2020.6.20)\n",
      "Requirement already satisfied: idna<3,>=2.5 in /Users/katie/.pyenv/versions/3.7.7/envs/lewagon/lib/python3.7/site-packages (from requests<3.0,>=2.8.1->MoviePy) (2.10)\n",
      "Requirement already satisfied: chardet<4,>=3.0.2 in /Users/katie/.pyenv/versions/3.7.7/envs/lewagon/lib/python3.7/site-packages (from requests<3.0,>=2.8.1->MoviePy) (3.0.4)\n",
      "Requirement already satisfied: urllib3!=1.25.0,!=1.25.1,<1.26,>=1.21.1 in /Users/katie/.pyenv/versions/3.7.7/envs/lewagon/lib/python3.7/site-packages (from requests<3.0,>=2.8.1->MoviePy) (1.25.9)\n",
      "\u001b[33mWARNING: You are using pip version 21.1.2; however, version 21.1.3 is available.\n",
      "You should consider upgrading via the '/Users/katie/.pyenv/versions/3.7.7/envs/lewagon/bin/python3.7 -m pip install --upgrade pip' command.\u001b[0m\n"
     ]
    }
   ],
   "source": [
    "!pip install MoviePy"
   ]
  },
  {
   "cell_type": "code",
   "execution_count": 2,
   "metadata": {},
   "outputs": [
    {
     "name": "stderr",
     "output_type": "stream",
     "text": [
      "t:   0%|          | 0/802 [00:00<?, ?it/s, now=None]"
     ]
    },
    {
     "name": "stdout",
     "output_type": "stream",
     "text": [
      "MoviePy - Building file ./video/output1.gif with imageio.\n"
     ]
    },
    {
     "name": "stderr",
     "output_type": "stream",
     "text": [
      "                                                              \r"
     ]
    }
   ],
   "source": [
    "from moviepy.editor import *\n",
    "\n",
    "clip = VideoFileClip(\"./video/Sif_slap_Loki.mp4\")\n",
    "clip.write_gif(\"./video/output1.gif\")"
   ]
  },
  {
   "cell_type": "markdown",
   "metadata": {},
   "source": [
    "<!-- ![gif1](./video/output1.gif \"gif1\") -->\n",
    "<img src=\"./video/output1.gif\" width=\"750\" align=\"center\">"
   ]
  },
  {
   "cell_type": "code",
   "execution_count": null,
   "metadata": {},
   "outputs": [],
   "source": []
  },
  {
   "cell_type": "code",
   "execution_count": null,
   "metadata": {},
   "outputs": [],
   "source": []
  },
  {
   "cell_type": "code",
   "execution_count": 3,
   "metadata": {},
   "outputs": [
    {
     "name": "stdout",
     "output_type": "stream",
     "text": [
      "-rw-r--r--  1 katie  staff   673M Jul 13 20:30 ./video/output1.gif\n"
     ]
    }
   ],
   "source": [
    "!ls -hl ./video/output*"
   ]
  },
  {
   "cell_type": "code",
   "execution_count": null,
   "metadata": {},
   "outputs": [],
   "source": []
  },
  {
   "cell_type": "code",
   "execution_count": null,
   "metadata": {},
   "outputs": [],
   "source": []
  },
  {
   "cell_type": "code",
   "execution_count": null,
   "metadata": {},
   "outputs": [],
   "source": []
  },
  {
   "cell_type": "code",
   "execution_count": null,
   "metadata": {},
   "outputs": [],
   "source": []
  },
  {
   "cell_type": "code",
   "execution_count": 4,
   "metadata": {},
   "outputs": [
    {
     "name": "stderr",
     "output_type": "stream",
     "text": [
      "t:   0%|          | 0/30 [00:00<?, ?it/s, now=None]"
     ]
    },
    {
     "name": "stdout",
     "output_type": "stream",
     "text": [
      "MoviePy - Building file ./video/output2.gif with imageio.\n"
     ]
    },
    {
     "name": "stderr",
     "output_type": "stream",
     "text": [
      "                                                            \r"
     ]
    }
   ],
   "source": [
    "from moviepy.editor import * \n",
    "clip = VideoFileClip(\"./video/Sif_slap_loki.mp4\").subclip(12,13)\n",
    "clip.write_gif(\"./video/output2.gif\")"
   ]
  },
  {
   "cell_type": "markdown",
   "metadata": {},
   "source": [
    "<!-- ![gif2](./video/output2.gif \"gif2\") -->\n",
    "<img src=\"./video/output2.gif\" width=\"750\" align=\"center\">"
   ]
  },
  {
   "cell_type": "code",
   "execution_count": 5,
   "metadata": {},
   "outputs": [
    {
     "name": "stdout",
     "output_type": "stream",
     "text": [
      "-rw-r--r--  1 katie  staff   673M Jul 13 20:30 ./video/output1.gif\n",
      "-rw-r--r--  1 katie  staff    26M Jul 13 20:33 ./video/output2.gif\n"
     ]
    }
   ],
   "source": [
    "!ls -hl ./video/output*"
   ]
  },
  {
   "cell_type": "code",
   "execution_count": null,
   "metadata": {},
   "outputs": [],
   "source": []
  },
  {
   "cell_type": "code",
   "execution_count": null,
   "metadata": {},
   "outputs": [],
   "source": []
  },
  {
   "cell_type": "code",
   "execution_count": null,
   "metadata": {},
   "outputs": [],
   "source": []
  },
  {
   "cell_type": "code",
   "execution_count": 6,
   "metadata": {},
   "outputs": [
    {
     "name": "stderr",
     "output_type": "stream",
     "text": [
      "t:   7%|▋         | 2/30 [00:00<00:01, 17.17it/s, now=None]"
     ]
    },
    {
     "name": "stdout",
     "output_type": "stream",
     "text": [
      "MoviePy - Building file ./video/output3.gif with imageio.\n"
     ]
    },
    {
     "name": "stderr",
     "output_type": "stream",
     "text": [
      "                                                            \r"
     ]
    }
   ],
   "source": [
    "from moviepy.editor import *\n",
    "\n",
    "clip = VideoFileClip(\"./video/Sif_slap_loki.mp4\").subclip(12,13).resize(0.3)\n",
    "clip.write_gif(\"./video/output3.gif\")"
   ]
  },
  {
   "cell_type": "markdown",
   "metadata": {},
   "source": [
    "<!-- ![gif3](./video/output3.gif \"gif3\") -->\n",
    "<img src=\"./video/output3.gif\" width=\"750\" align=\"center\">"
   ]
  },
  {
   "cell_type": "code",
   "execution_count": 7,
   "metadata": {},
   "outputs": [
    {
     "name": "stdout",
     "output_type": "stream",
     "text": [
      "-rw-r--r--  1 katie  staff   673M Jul 13 20:30 ./video/output1.gif\n",
      "-rw-r--r--  1 katie  staff    26M Jul 13 20:33 ./video/output2.gif\n",
      "-rw-r--r--  1 katie  staff   3.4M Jul 13 20:34 ./video/output3.gif\n"
     ]
    }
   ],
   "source": [
    "!ls -hl ./video/output*"
   ]
  },
  {
   "cell_type": "code",
   "execution_count": null,
   "metadata": {},
   "outputs": [],
   "source": []
  },
  {
   "cell_type": "code",
   "execution_count": null,
   "metadata": {},
   "outputs": [],
   "source": []
  },
  {
   "cell_type": "code",
   "execution_count": null,
   "metadata": {},
   "outputs": [],
   "source": []
  },
  {
   "cell_type": "code",
   "execution_count": 9,
   "metadata": {},
   "outputs": [
    {
     "name": "stderr",
     "output_type": "stream",
     "text": [
      "t:   7%|▋         | 2/30 [00:00<00:01, 16.89it/s, now=None]"
     ]
    },
    {
     "name": "stdout",
     "output_type": "stream",
     "text": [
      "MoviePy - Building file ./video/output04.gif with imageio.\n"
     ]
    },
    {
     "name": "stderr",
     "output_type": "stream",
     "text": [
      "                                                            \r"
     ]
    }
   ],
   "source": [
    "from moviepy.editor import *\n",
    "\n",
    "clip = VideoFileClip(\"./video/Sif_slap_loki.mp4\").subclip(12,13).resize(0.3)\n",
    "\n",
    "# Generate a text clip. \n",
    "txt_clip = TextClip(\"Oh,that hurts!\",fontsize=70,color='white')\n",
    "\n",
    "txt_clip = txt_clip.set_pos('center').set_duration(clip.duration)\n",
    "\n",
    "video = CompositeVideoClip([clip, txt_clip])\n",
    "\n",
    "video.write_gif(\"./video/output04.gif\")"
   ]
  },
  {
   "cell_type": "markdown",
   "metadata": {},
   "source": [
    "<img src=\"./video/output04.gif\" width=\"750\" align=\"center\">"
   ]
  },
  {
   "cell_type": "code",
   "execution_count": 10,
   "metadata": {},
   "outputs": [
    {
     "name": "stdout",
     "output_type": "stream",
     "text": [
      "-rw-r--r--  1 katie  staff   3.4M Jul 13 20:37 ./video/output04.gif\n",
      "-rw-r--r--  1 katie  staff   673M Jul 13 20:30 ./video/output1.gif\n",
      "-rw-r--r--  1 katie  staff    26M Jul 13 20:33 ./video/output2.gif\n",
      "-rw-r--r--  1 katie  staff   3.4M Jul 13 20:34 ./video/output3.gif\n",
      "-rw-r--r--  1 katie  staff   3.4M Jul 13 20:36 ./video/output4.gif\n"
     ]
    }
   ],
   "source": [
    "!ls -hl ./video/output*"
   ]
  },
  {
   "cell_type": "code",
   "execution_count": null,
   "metadata": {},
   "outputs": [],
   "source": []
  },
  {
   "cell_type": "code",
   "execution_count": null,
   "metadata": {},
   "outputs": [],
   "source": []
  },
  {
   "cell_type": "code",
   "execution_count": null,
   "metadata": {},
   "outputs": [],
   "source": []
  },
  {
   "cell_type": "code",
   "execution_count": null,
   "metadata": {},
   "outputs": [],
   "source": []
  },
  {
   "cell_type": "markdown",
   "metadata": {},
   "source": [
    "# Final Version"
   ]
  },
  {
   "cell_type": "code",
   "execution_count": 11,
   "metadata": {},
   "outputs": [
    {
     "name": "stderr",
     "output_type": "stream",
     "text": [
      "t:  13%|█▎        | 2/15 [00:00<00:01, 12.36it/s, now=None]"
     ]
    },
    {
     "name": "stdout",
     "output_type": "stream",
     "text": [
      "MoviePy - Building file ./video/output5.gif with imageio.\n"
     ]
    },
    {
     "name": "stderr",
     "output_type": "stream",
     "text": [
      "                                                            \r"
     ]
    }
   ],
   "source": [
    "from moviepy.editor import *\n",
    "\n",
    "clip = VideoFileClip(\"./video/Sif_slap_loki.mp4\").subclip(\n",
    "    12,13).resize(0.3)\n",
    "\n",
    "txt_clip = TextClip(\"Oh,that hurts!\",fontsize=70,color='white')\n",
    "\n",
    "txt_clip = txt_clip.set_pos('center').set_duration(1)\n",
    "\n",
    "video = CompositeVideoClip([clip, txt_clip])\n",
    "\n",
    "video.write_gif(\"./video/output5.gif\", fps=15)"
   ]
  },
  {
   "cell_type": "markdown",
   "metadata": {},
   "source": [
    "<img src=\"./video/output5.gif\" width=\"750\" align=\"center\">"
   ]
  },
  {
   "cell_type": "code",
   "execution_count": 12,
   "metadata": {},
   "outputs": [
    {
     "name": "stdout",
     "output_type": "stream",
     "text": [
      "-rw-r--r--  1 katie  staff   3.4M Jul 13 20:37 ./video/output04.gif\n",
      "-rw-r--r--  1 katie  staff   673M Jul 13 20:30 ./video/output1.gif\n",
      "-rw-r--r--  1 katie  staff    26M Jul 13 20:33 ./video/output2.gif\n",
      "-rw-r--r--  1 katie  staff   3.4M Jul 13 20:34 ./video/output3.gif\n",
      "-rw-r--r--  1 katie  staff   3.4M Jul 13 20:36 ./video/output4.gif\n",
      "-rw-r--r--  1 katie  staff   1.7M Jul 13 20:39 ./video/output5.gif\n"
     ]
    }
   ],
   "source": [
    "!ls -hl ./video/output*"
   ]
  },
  {
   "cell_type": "code",
   "execution_count": null,
   "metadata": {},
   "outputs": [],
   "source": []
  }
 ],
 "metadata": {
  "kernelspec": {
   "display_name": "Python 3",
   "language": "python",
   "name": "python3"
  },
  "language_info": {
   "codemirror_mode": {
    "name": "ipython",
    "version": 3
   },
   "file_extension": ".py",
   "mimetype": "text/x-python",
   "name": "python",
   "nbconvert_exporter": "python",
   "pygments_lexer": "ipython3",
   "version": "3.7.7"
  }
 },
 "nbformat": 4,
 "nbformat_minor": 4
}
