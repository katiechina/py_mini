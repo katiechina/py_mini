{
 "cells": [
  {
   "cell_type": "markdown",
   "metadata": {},
   "source": [
    "## 获取实时黄金价格"
   ]
  },
  {
   "cell_type": "code",
   "execution_count": null,
   "metadata": {},
   "outputs": [],
   "source": [
    "!pip install requests"
   ]
  },
  {
   "cell_type": "code",
   "execution_count": null,
   "metadata": {},
   "outputs": [],
   "source": [
    "!pip install beautifulsoup4"
   ]
  },
  {
   "cell_type": "code",
   "execution_count": 1,
   "metadata": {},
   "outputs": [
    {
     "name": "stdout",
     "output_type": "stream",
     "text": [
      "\n",
      "\n",
      "\n",
      "贵金属名称\n",
      "最新价\n",
      "最高价\n",
      "最低价\n",
      "收盘价\n",
      "涨跌\n",
      "涨跌幅\n",
      "更新时间\n",
      "\n",
      "\n",
      "\n"
     ]
    }
   ],
   "source": [
    "from bs4 import BeautifulSoup as bs\n",
    "import requests    \n",
    "\n",
    "def get_price(url):      \n",
    "    data = requests.get(url)  # getting the request from url \n",
    "    data.encoding='utf8'\n",
    "    soup = bs(data.text, 'html.parser') # converting \n",
    "    ans = soup.find(\"table\", id=\"TabInfo\").text\n",
    "    return ans\n",
    "   \n",
    "url = \"http://gold.cnfol.com/fol_inc/v6.0/Gold/GoldTD.shtml\" \n",
    "ans = get_price(url)\n",
    "print(ans)"
   ]
  },
  {
   "cell_type": "code",
   "execution_count": null,
   "metadata": {},
   "outputs": [],
   "source": []
  },
  {
   "cell_type": "code",
   "execution_count": 3,
   "metadata": {},
   "outputs": [
    {
     "data": {
      "text/plain": [
       "'369.2'"
      ]
     },
     "execution_count": 3,
     "metadata": {},
     "output_type": "execute_result"
    }
   ],
   "source": [
    "import requests\n",
    "\n",
    "gold_api_url = \"http://gold.cnfol.com/fol_inc/v6.0/Gold/goldhq/json_table/td_tableinfo.json\"\n",
    "response = requests.post(gold_api_url)\n",
    "response_json = response.json()\n",
    "\n",
    "# response_json\n",
    "response_json['data'][0]['Last']"
   ]
  },
  {
   "cell_type": "code",
   "execution_count": null,
   "metadata": {},
   "outputs": [],
   "source": []
  }
 ],
 "metadata": {
  "kernelspec": {
   "display_name": "Python 3",
   "language": "python",
   "name": "python3"
  },
  "language_info": {
   "codemirror_mode": {
    "name": "ipython",
    "version": 3
   },
   "file_extension": ".py",
   "mimetype": "text/x-python",
   "name": "python",
   "nbconvert_exporter": "python",
   "pygments_lexer": "ipython3",
   "version": "3.7.7"
  }
 },
 "nbformat": 4,
 "nbformat_minor": 4
}
