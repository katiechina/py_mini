{
 "cells": [
  {
   "cell_type": "code",
   "execution_count": 1,
   "metadata": {},
   "outputs": [
    {
     "name": "stdout",
     "output_type": "stream",
     "text": [
      "Requirement already satisfied: opencv-python in /Users/katie/.pyenv/versions/3.7.7/envs/lewagon/lib/python3.7/site-packages (4.5.2.52)\n",
      "Requirement already satisfied: numpy>=1.14.5 in /Users/katie/.pyenv/versions/3.7.7/envs/lewagon/lib/python3.7/site-packages (from opencv-python) (1.18.4)\n"
     ]
    }
   ],
   "source": [
    "!pip install opencv-python"
   ]
  },
  {
   "cell_type": "markdown",
   "metadata": {},
   "source": [
    "[opencv-python documentation](https://docs.opencv.org/master/df/dac/group__photo__render.html)"
   ]
  },
  {
   "cell_type": "code",
   "execution_count": 2,
   "metadata": {},
   "outputs": [
    {
     "name": "stdout",
     "output_type": "stream",
     "text": [
      "cartoonify.ipynb       the_road_not_taken.txt voice.mp3\n",
      "generate_qrcode.ipynb  txtToMp3.ipynb         voice_recorder.ipynb\n",
      "\u001b[1m\u001b[36mimage\u001b[m\u001b[m                  url_qrcode.png\n"
     ]
    }
   ],
   "source": [
    "!ls"
   ]
  },
  {
   "cell_type": "code",
   "execution_count": 3,
   "metadata": {},
   "outputs": [
    {
     "data": {
      "text/plain": [
       "['txtToMp3.ipynb',\n",
       " 'voice.mp3',\n",
       " '.DS_Store',\n",
       " 'the_road_not_taken.txt',\n",
       " 'voice_recorder.ipynb',\n",
       " 'image',\n",
       " 'cartoonify.ipynb',\n",
       " 'url_qrcode.png',\n",
       " '.ipynb_checkpoints',\n",
       " 'generate_qrcode.ipynb']"
      ]
     },
     "execution_count": 3,
     "metadata": {},
     "output_type": "execute_result"
    }
   ],
   "source": [
    "import os\n",
    "os.listdir('.')"
   ]
  },
  {
   "cell_type": "code",
   "execution_count": 4,
   "metadata": {},
   "outputs": [],
   "source": [
    "import cv2\n",
    "import sys\n",
    "\n",
    "img = sys.path[0] +'/image/arya.jpeg'\n",
    "\n",
    "color_image = cv2.imread(img)\n",
    "## show image without the process.\n",
    "cv2.imshow(\"image_not_processed\",color_image) \n",
    "cv2.waitKey()\n",
    "cv2.destroyAllWindows()"
   ]
  },
  {
   "cell_type": "code",
   "execution_count": 7,
   "metadata": {},
   "outputs": [
    {
     "name": "stdin",
     "output_type": "stream",
     "text": [
      "This script has 2 sytles. Please type 1 or 2:  3\n"
     ]
    },
    {
     "name": "stdout",
     "output_type": "stream",
     "text": [
      "Invalid style selection.\n"
     ]
    }
   ],
   "source": [
    "cartoon_style_selection = input(\"This script has 2 sytles. Please type 1 or 2: \")\n",
    "\n",
    "if (cartoon_style_selection == \"1\"):\n",
    "    ## Cartoonify process.\n",
    "    cartoon_image_style_1 = cv2.stylization(color_image, sigma_s=150, sigma_r=0.25)  \n",
    "    cv2.imshow('cartoon_1', cartoon_image_style_1)\n",
    "    cv2.waitKey()\n",
    "    cv2.destroyAllWindows()\n",
    "    \n",
    "elif (cartoon_style_selection == \"2\"):\n",
    "    ## Cartoonify process.\n",
    "    cartoon_image_style_2  = cv2.stylization(color_image, sigma_s=60, sigma_r=0.5)  \n",
    "    cv2.imshow('cartoon_2', cartoon_image_style_2)\n",
    "    cv2.waitKey()\n",
    "    cv2.destroyAllWindows()\n",
    "\n",
    "else:\n",
    "    print(\"Invalid style selection.\")"
   ]
  },
  {
   "cell_type": "code",
   "execution_count": 8,
   "metadata": {},
   "outputs": [],
   "source": [
    "cv2.destroyAllWindows()"
   ]
  },
  {
   "cell_type": "code",
   "execution_count": null,
   "metadata": {},
   "outputs": [],
   "source": []
  }
 ],
 "metadata": {
  "kernelspec": {
   "display_name": "Python 3",
   "language": "python",
   "name": "python3"
  },
  "language_info": {
   "codemirror_mode": {
    "name": "ipython",
    "version": 3
   },
   "file_extension": ".py",
   "mimetype": "text/x-python",
   "name": "python",
   "nbconvert_exporter": "python",
   "pygments_lexer": "ipython3",
   "version": "3.7.7"
  }
 },
 "nbformat": 4,
 "nbformat_minor": 4
}
