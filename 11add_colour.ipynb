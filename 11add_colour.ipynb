{
 "cells": [
  {
   "cell_type": "markdown",
   "metadata": {},
   "source": [
    "# 给民国老照片上色"
   ]
  },
  {
   "cell_type": "markdown",
   "metadata": {},
   "source": [
    "[Image Colorization API](https://deepai.org/machine-learning-model/colorizer)"
   ]
  },
  {
   "cell_type": "markdown",
   "metadata": {},
   "source": [
    "### GAN 对抗生成网络"
   ]
  },
  {
   "cell_type": "code",
   "execution_count": null,
   "metadata": {},
   "outputs": [],
   "source": []
  },
  {
   "cell_type": "markdown",
   "metadata": {},
   "source": [
    "## 1 Shell 实现"
   ]
  },
  {
   "cell_type": "code",
   "execution_count": 1,
   "metadata": {},
   "outputs": [
    {
     "name": "stdout",
     "output_type": "stream",
     "text": [
      "{\n",
      "    \"id\": \"56a20e9e-0a7d-4df6-8b84-076bf154a1a1\",\n",
      "    \"output_url\": \"https://api.deepai.org/job-view-file/56a20e9e-0a7d-4df6-8b84-076bf154a1a1/outputs/output.jpg\"\n",
      "}"
     ]
    }
   ],
   "source": [
    "!curl \\\n",
    "    -F 'image=http://img.mp.itc.cn/upload/20170420/15cc78d65ccf45af8d7269f19f8914c1_th.jpeg' \\\n",
    "    -H 'api-key:quickstart-QUdJIGlzIGNvbWluZy4uLi4K' \\\n",
    "    https://api.deepai.org/api/colorizer "
   ]
  },
  {
   "cell_type": "code",
   "execution_count": null,
   "metadata": {},
   "outputs": [],
   "source": []
  },
  {
   "cell_type": "markdown",
   "metadata": {},
   "source": [
    "## 2 Python 实现"
   ]
  },
  {
   "cell_type": "code",
   "execution_count": 2,
   "metadata": {},
   "outputs": [
    {
     "name": "stdout",
     "output_type": "stream",
     "text": [
      "Requirement already satisfied: requests in /Users/katie/.pyenv/versions/3.7.7/envs/lewagon/lib/python3.7/site-packages (2.24.0)\n",
      "Requirement already satisfied: chardet<4,>=3.0.2 in /Users/katie/.pyenv/versions/3.7.7/envs/lewagon/lib/python3.7/site-packages (from requests) (3.0.4)\n",
      "Requirement already satisfied: urllib3!=1.25.0,!=1.25.1,<1.26,>=1.21.1 in /Users/katie/.pyenv/versions/3.7.7/envs/lewagon/lib/python3.7/site-packages (from requests) (1.25.9)\n",
      "Requirement already satisfied: idna<3,>=2.5 in /Users/katie/.pyenv/versions/3.7.7/envs/lewagon/lib/python3.7/site-packages (from requests) (2.10)\n",
      "Requirement already satisfied: certifi>=2017.4.17 in /Users/katie/.pyenv/versions/3.7.7/envs/lewagon/lib/python3.7/site-packages (from requests) (2020.6.20)\n"
     ]
    }
   ],
   "source": [
    "!pip install requests"
   ]
  },
  {
   "cell_type": "code",
   "execution_count": 3,
   "metadata": {},
   "outputs": [
    {
     "name": "stdout",
     "output_type": "stream",
     "text": [
      "{'id': '115975ca-2d99-4d3c-90bf-de4eb518bf5e', 'output_url': 'https://api.deepai.org/job-view-file/115975ca-2d99-4d3c-90bf-de4eb518bf5e/outputs/output.jpg'}\n"
     ]
    }
   ],
   "source": [
    "# Example posting a image URL:\n",
    "\n",
    "import requests\n",
    "r = requests.post(\n",
    "    \"https://api.deepai.org/api/colorizer\",\n",
    "    data={\n",
    "        'image': 'http://img.mp.itc.cn/upload/20170420/15cc78d65ccf45af8d7269f19f8914c1_th.jpeg',\n",
    "    },\n",
    "    headers={'api-key': 'quickstart-QUdJIGlzIGNvbWluZy4uLi4K'}\n",
    ")\n",
    "print(r.json())"
   ]
  },
  {
   "cell_type": "code",
   "execution_count": 5,
   "metadata": {},
   "outputs": [
    {
     "name": "stdout",
     "output_type": "stream",
     "text": [
      "{'id': 'c1417702-804d-4e7c-a37f-59cc40f3ebfa', 'output_url': 'https://api.deepai.org/job-view-file/c1417702-804d-4e7c-a37f-59cc40f3ebfa/outputs/output.jpg'}\n"
     ]
    }
   ],
   "source": [
    "# Example posting a local image file:\n",
    "\n",
    "import requests\n",
    "r = requests.post(\n",
    "    \"https://api.deepai.org/api/colorizer\",\n",
    "    files={\n",
    "        'image': open('./image/oldpic.jpeg', 'rb'),\n",
    "    },\n",
    "    headers={'api-key': 'quickstart-QUdJIGlzIGNvbWluZy4uLi4K'}\n",
    ")\n",
    "print(r.json())"
   ]
  },
  {
   "cell_type": "code",
   "execution_count": null,
   "metadata": {},
   "outputs": [],
   "source": []
  }
 ],
 "metadata": {
  "kernelspec": {
   "display_name": "Python 3",
   "language": "python",
   "name": "python3"
  },
  "language_info": {
   "codemirror_mode": {
    "name": "ipython",
    "version": 3
   },
   "file_extension": ".py",
   "mimetype": "text/x-python",
   "name": "python",
   "nbconvert_exporter": "python",
   "pygments_lexer": "ipython3",
   "version": "3.7.7"
  }
 },
 "nbformat": 4,
 "nbformat_minor": 4
}
