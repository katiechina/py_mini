{
 "cells": [
  {
   "cell_type": "code",
   "execution_count": 2,
   "metadata": {},
   "outputs": [
    {
     "name": "stdout",
     "output_type": "stream",
     "text": [
      "Requirement already satisfied: gtts in /Users/katie/.pyenv/versions/3.7.7/envs/lewagon/lib/python3.7/site-packages (2.2.2)\n",
      "Requirement already satisfied: click in /Users/katie/.pyenv/versions/3.7.7/envs/lewagon/lib/python3.7/site-packages (from gtts) (7.1.2)\n",
      "Requirement already satisfied: six in /Users/katie/.pyenv/versions/3.7.7/envs/lewagon/lib/python3.7/site-packages (from gtts) (1.15.0)\n",
      "Requirement already satisfied: requests in /Users/katie/.pyenv/versions/3.7.7/envs/lewagon/lib/python3.7/site-packages (from gtts) (2.24.0)\n",
      "Requirement already satisfied: certifi>=2017.4.17 in /Users/katie/.pyenv/versions/3.7.7/envs/lewagon/lib/python3.7/site-packages (from requests->gtts) (2020.6.20)\n",
      "Requirement already satisfied: urllib3!=1.25.0,!=1.25.1,<1.26,>=1.21.1 in /Users/katie/.pyenv/versions/3.7.7/envs/lewagon/lib/python3.7/site-packages (from requests->gtts) (1.25.9)\n",
      "Requirement already satisfied: idna<3,>=2.5 in /Users/katie/.pyenv/versions/3.7.7/envs/lewagon/lib/python3.7/site-packages (from requests->gtts) (2.10)\n",
      "Requirement already satisfied: chardet<4,>=3.0.2 in /Users/katie/.pyenv/versions/3.7.7/envs/lewagon/lib/python3.7/site-packages (from requests->gtts) (3.0.4)\n",
      "\u001b[33mWARNING: You are using pip version 20.2.4; however, version 21.1.2 is available.\n",
      "You should consider upgrading via the '/Users/katie/.pyenv/versions/3.7.7/envs/lewagon/bin/python3.7 -m pip install --upgrade pip' command.\u001b[0m\n"
     ]
    }
   ],
   "source": [
    "!pip install gtts"
   ]
  },
  {
   "cell_type": "markdown",
   "metadata": {},
   "source": [
    "[gtts documentation](https://gtts.readthedocs.io/en/latest/)"
   ]
  },
  {
   "cell_type": "code",
   "execution_count": 3,
   "metadata": {},
   "outputs": [
    {
     "name": "stdout",
     "output_type": "stream",
     "text": [
      "the_road_not_taken.txt txtToMp3.ipynb         voice_recorder.ipynb\n"
     ]
    }
   ],
   "source": [
    "!ls"
   ]
  },
  {
   "cell_type": "code",
   "execution_count": 6,
   "metadata": {},
   "outputs": [
    {
     "data": {
      "text/plain": [
       "32512"
      ]
     },
     "execution_count": 6,
     "metadata": {},
     "output_type": "execute_result"
    }
   ],
   "source": [
    "from gtts import gTTS \n",
    "import os\n",
    "file = open(\"the_road_not_taken.txt\", \"r\").read()\n",
    "\n",
    "speech = gTTS(text=file, lang='en', slow=False)\n",
    "speech.save(\"voice.mp3\")\n",
    "os.system(\"voice.mp3\")"
   ]
  },
  {
   "cell_type": "code",
   "execution_count": 7,
   "metadata": {},
   "outputs": [
    {
     "name": "stdout",
     "output_type": "stream",
     "text": [
      "the_road_not_taken.txt voice.mp3\n",
      "txtToMp3.ipynb         voice_recorder.ipynb\n"
     ]
    }
   ],
   "source": [
    "!ls"
   ]
  },
  {
   "cell_type": "code",
   "execution_count": 8,
   "metadata": {},
   "outputs": [
    {
     "name": "stdout",
     "output_type": "stream",
     "text": [
      "total 128\n",
      "-rw-r--r--  1 katie  staff    104 Jun  5 23:30 the_road_not_taken.txt\n",
      "-rw-r--r--  1 katie  staff  24133 Jun  5 23:36 txtToMp3.ipynb\n",
      "-rw-r--r--  1 katie  staff  31104 Jun  5 23:37 voice.mp3\n",
      "-rw-r--r--  1 katie  staff   4048 Jun  5 22:58 voice_recorder.ipynb\n"
     ]
    }
   ],
   "source": [
    "!ls -l"
   ]
  },
  {
   "cell_type": "code",
   "execution_count": null,
   "metadata": {},
   "outputs": [],
   "source": []
  }
 ],
 "metadata": {
  "kernelspec": {
   "display_name": "Python 3",
   "language": "python",
   "name": "python3"
  },
  "language_info": {
   "codemirror_mode": {
    "name": "ipython",
    "version": 3
   },
   "file_extension": ".py",
   "mimetype": "text/x-python",
   "name": "python",
   "nbconvert_exporter": "python",
   "pygments_lexer": "ipython3",
   "version": "3.7.7"
  }
 },
 "nbformat": 4,
 "nbformat_minor": 4
}
