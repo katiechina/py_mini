{
 "cells": [
  {
   "cell_type": "markdown",
   "metadata": {},
   "source": [
    "[PyDictionary documentation](https://pypi.org/project/PyDictionary/)\n",
    "\n",
    "It is a Dictionary Module for Python 2-3 to get meanings, translations, synonyms and Antonyms of words. It uses WordNet for doing as its functionality suggests and has dependencies on modules named Requests, BeautifulSoup4 and goslate ."
   ]
  },
  {
   "cell_type": "code",
   "execution_count": null,
   "metadata": {},
   "outputs": [],
   "source": [
    "!pip install PyDictionary"
   ]
  },
  {
   "cell_type": "code",
   "execution_count": 23,
   "metadata": {},
   "outputs": [
    {
     "name": "stdin",
     "output_type": "stream",
     "text": [
      " test\n"
     ]
    },
    {
     "name": "stdout",
     "output_type": "stream",
     "text": [
      "synonym: ['verify', 'evaluate', 'control', 'float', 'try', 'judge', 'pass judgment', 'field-test', 'examine', 'try out', 'essay', 'prove']\n",
      "antonym: ['powerlessness', 'unrestraint', 'intemperance', 'indiscipline', 'unskillfulness']\n",
      "state: 2\n",
      "Noun ['trying something to find out about it', 'any standardized procedure for measuring sensitivity or memory or intelligence or aptitude or personality etc', 'a set of questions or exercises evaluating skill or knowledge', 'the act of undergoing testing', 'the act of testing something', 'a hard outer covering as of some amoebas and sea urchins']\n",
      "Verb ['put to the test, as for its quality, or give experimental use to', 'test or examine for the presence of disease or infection', \"examine someone's knowledge of something\", 'show a certain characteristic when tested', 'achieve a certain score or rating on a test', 'determine the presence or properties of (a substance', 'undergo a test']\n"
     ]
    }
   ],
   "source": [
    "from PyDictionary import PyDictionary\n",
    "\n",
    "def Dictionary():\n",
    "    dic = PyDictionary()\n",
    "    query = str(input())\n",
    "    print(f'synonym: {dic.synonym(query)}')    \n",
    "    print(f'antonym: {dic.antonym(query)}')\n",
    "    \n",
    "    word = dic.meaning(query)\n",
    "    print(f'state: {len(word)}')   \n",
    "\n",
    "    for state in word:\n",
    "        print(state, word[state])  \n",
    "    \n",
    "\n",
    "if __name__ == '__main__':\n",
    "\tDictionary()"
   ]
  },
  {
   "cell_type": "code",
   "execution_count": 25,
   "metadata": {},
   "outputs": [
    {
     "name": "stdin",
     "output_type": "stream",
     "text": [
      "please input the word you would like translated:\n",
      " 中国\n"
     ]
    },
    {
     "data": {
      "text/plain": [
       "'China'"
      ]
     },
     "execution_count": 25,
     "metadata": {},
     "output_type": "execute_result"
    }
   ],
   "source": [
    "import goslate\n",
    "gs = goslate.Goslate()\n",
    "\n",
    "text = input(\"please input the word you would like translated:\\n\")\n",
    "gs.translate(text,'en')"
   ]
  },
  {
   "cell_type": "code",
   "execution_count": 30,
   "metadata": {},
   "outputs": [
    {
     "name": "stdout",
     "output_type": "stream",
     "text": [
      "Invalid Word\n",
      "None\n"
     ]
    }
   ],
   "source": [
    "from PyDictionary import PyDictionary\n",
    "\n",
    "dic = PyDictionary()\n",
    "print (dic.translate(\"code\",'fr'))"
   ]
  },
  {
   "cell_type": "code",
   "execution_count": null,
   "metadata": {},
   "outputs": [],
   "source": []
  }
 ],
 "metadata": {
  "kernelspec": {
   "display_name": "Python 3",
   "language": "python",
   "name": "python3"
  },
  "language_info": {
   "codemirror_mode": {
    "name": "ipython",
    "version": 3
   },
   "file_extension": ".py",
   "mimetype": "text/x-python",
   "name": "python",
   "nbconvert_exporter": "python",
   "pygments_lexer": "ipython3",
   "version": "3.7.7"
  }
 },
 "nbformat": 4,
 "nbformat_minor": 4
}
