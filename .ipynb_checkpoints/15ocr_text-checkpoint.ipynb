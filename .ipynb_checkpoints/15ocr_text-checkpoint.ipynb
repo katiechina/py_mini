{
 "cells": [
  {
   "cell_type": "markdown",
   "metadata": {},
   "source": [
    "# OCR Image to Text\n",
    "# OCR 文本识别"
   ]
  },
  {
   "cell_type": "markdown",
   "metadata": {},
   "source": [
    "[pyteeseract doc](https://pypi.org/project/pytesseract/)"
   ]
  },
  {
   "cell_type": "markdown",
   "metadata": {},
   "source": [
    "OCR(Optical Character Recognition)即光学字符识别技术，专门用于对图片文字进行识别，并获取文本。\n",
    "\n",
    "tesseract-ocr引擎先由HP实验室研发，后来成为一个开源项目，主要由google进行改进优化。"
   ]
  },
  {
   "cell_type": "code",
   "execution_count": 2,
   "metadata": {},
   "outputs": [
    {
     "name": "stdout",
     "output_type": "stream",
     "text": [
      "Collecting pytesseract\n",
      "  Downloading pytesseract-0.3.8.tar.gz (14 kB)\n",
      "Requirement already satisfied: Pillow in /Users/katie/.pyenv/versions/3.7.7/envs/lewagon/lib/python3.7/site-packages (from pytesseract) (7.2.0)\n",
      "Building wheels for collected packages: pytesseract\n",
      "  Building wheel for pytesseract (setup.py) ... \u001b[?25ldone\n",
      "\u001b[?25h  Created wheel for pytesseract: filename=pytesseract-0.3.8-py2.py3-none-any.whl size=14063 sha256=9b113e9f4fc0dba5d01e5bf2ca59cf88f7d8f380b94bb32ec8a4e5e85a030430\n",
      "  Stored in directory: /Users/katie/Library/Caches/pip/wheels/a4/89/b9/3f11250225d0f90e5454fcc30fd1b7208db226850715aa9ace\n",
      "Successfully built pytesseract\n",
      "Installing collected packages: pytesseract\n",
      "Successfully installed pytesseract-0.3.8\n",
      "\u001b[33mWARNING: You are using pip version 21.1.2; however, version 21.1.3 is available.\n",
      "You should consider upgrading via the '/Users/katie/.pyenv/versions/3.7.7/envs/lewagon/bin/python3.7 -m pip install --upgrade pip' command.\u001b[0m\n"
     ]
    }
   ],
   "source": [
    "!pip install pytesseract"
   ]
  },
  {
   "cell_type": "code",
   "execution_count": 3,
   "metadata": {},
   "outputs": [
    {
     "name": "stdout",
     "output_type": "stream",
     "text": [
      "Requirement already satisfied: Pillow in /Users/katie/.pyenv/versions/3.7.7/envs/lewagon/lib/python3.7/site-packages (7.2.0)\n",
      "\u001b[33mWARNING: You are using pip version 21.1.2; however, version 21.1.3 is available.\n",
      "You should consider upgrading via the '/Users/katie/.pyenv/versions/3.7.7/envs/lewagon/bin/python3.7 -m pip install --upgrade pip' command.\u001b[0m\n"
     ]
    }
   ],
   "source": [
    "!pip install Pillow"
   ]
  },
  {
   "cell_type": "code",
   "execution_count": 4,
   "metadata": {},
   "outputs": [
    {
     "name": "stdout",
     "output_type": "stream",
     "text": [
      "Updating Homebrew...\n",
      "\u001b[34m==>\u001b[0m \u001b[1mAuto-updated Homebrew!\u001b[0m\n",
      "Updated 3 taps (heroku/brew, homebrew/core and homebrew/cask).\n",
      "\u001b[34m==>\u001b[0m \u001b[1mNew Formulae\u001b[0m\n",
      "amfora                     frum                       kubeconform\n",
      "argocd-vault-plugin        git-xargs                  s4cmd\n",
      "demumble                   jrsonnet\n",
      "detect-secrets             kalker\n",
      "\u001b[34m==>\u001b[0m \u001b[1mUpdated Formulae\u001b[0m\n",
      "Updated 552 formulae.\n",
      "\u001b[34m==>\u001b[0m \u001b[1mRenamed Formulae\u001b[0m\n",
      "weboob -> woob\n",
      "\u001b[34m==>\u001b[0m \u001b[1mNew Casks\u001b[0m\n",
      "affinity-designer   cinc-workstation    maxon               samsung-dex\n",
      "affinity-publisher  maestral            portx               touchosc\n",
      "\u001b[34m==>\u001b[0m \u001b[1mUpdated Casks\u001b[0m\n",
      "Updated 229 casks.\n",
      "\n",
      "\u001b[33mWarning:\u001b[0m tesseract 4.1.1 is already installed and up-to-date.\n",
      "To reinstall 4.1.1, run:\n",
      "  brew reinstall tesseract\n"
     ]
    }
   ],
   "source": [
    "!brew install tesseract"
   ]
  },
  {
   "cell_type": "code",
   "execution_count": 26,
   "metadata": {},
   "outputs": [
    {
     "name": "stdout",
     "output_type": "stream",
     "text": [
      "\u001b[1m\u001b[36mconfigs\u001b[m\u001b[m          osd.traineddata  snum.traineddata\n",
      "eng.traineddata  pdf.ttf          \u001b[1m\u001b[36mtessconfigs\u001b[m\u001b[m\n"
     ]
    }
   ],
   "source": [
    "!ls  /usr/local/Cellar/tesseract/4.1.1/share/tessdata"
   ]
  },
  {
   "cell_type": "code",
   "execution_count": 27,
   "metadata": {},
   "outputs": [
    {
     "name": "stdout",
     "output_type": "stream",
     "text": [
      "\u001b[1m\u001b[36mMeditation\u001b[m\u001b[m          \u001b[1m\u001b[36mpdfs\u001b[m\u001b[m                \u001b[1m\u001b[36mpic\u001b[m\u001b[m                 \u001b[1m\u001b[36mvideo\u001b[m\u001b[m\n",
      "chi_sim.traineddata \u001b[1m\u001b[36mpeople\u001b[m\u001b[m              \u001b[1m\u001b[36mpython projects\u001b[m\u001b[m\n"
     ]
    }
   ],
   "source": [
    "!ls /Users/katie/Downloads"
   ]
  },
  {
   "cell_type": "code",
   "execution_count": 29,
   "metadata": {},
   "outputs": [],
   "source": [
    "!cp /Users/katie/Downloads/chi_sim.traineddata  /usr/local/Cellar/tesseract/4.1.1/share/tessdata"
   ]
  },
  {
   "cell_type": "code",
   "execution_count": 30,
   "metadata": {},
   "outputs": [
    {
     "name": "stdout",
     "output_type": "stream",
     "text": [
      "chi_sim.traineddata eng.traineddata     pdf.ttf             \u001b[1m\u001b[36mtessconfigs\u001b[m\u001b[m\n",
      "\u001b[1m\u001b[36mconfigs\u001b[m\u001b[m             osd.traineddata     snum.traineddata\n"
     ]
    }
   ],
   "source": [
    "!ls  /usr/local/Cellar/tesseract/4.1.1/share/tessdata"
   ]
  },
  {
   "cell_type": "code",
   "execution_count": null,
   "metadata": {},
   "outputs": [],
   "source": []
  },
  {
   "cell_type": "code",
   "execution_count": null,
   "metadata": {},
   "outputs": [],
   "source": []
  },
  {
   "cell_type": "code",
   "execution_count": null,
   "metadata": {},
   "outputs": [],
   "source": []
  },
  {
   "cell_type": "code",
   "execution_count": null,
   "metadata": {},
   "outputs": [],
   "source": []
  },
  {
   "cell_type": "code",
   "execution_count": 38,
   "metadata": {},
   "outputs": [
    {
     "name": "stdout",
     "output_type": "stream",
     "text": [
      "INSTALLATION\n",
      "\n",
      "Prerequisites:\n",
      "\n",
      "+ Python-tesseract requires Python 3.6+\n",
      "\n",
      "* You will need the Python Imaging Library (PIL) (or the Pillow fork). Under Debian/Ubuntu, this is the package\n",
      "python-imaging or python3-imaging.\n",
      "\n",
      "* Install Google Tesseract OCR (additional info how to install the engine on Linux, Mac OSX and Windows). You\n",
      "must be able to invoke the tesseract command as tesseract. If this isn’t the case, for example because tesseract\n",
      "isn’t in your PATH, you will have to change the “tesseract_cmd” variable\n",
      "pytesseract. pytesseract. tesseract_cnd. Under Debian/Ubuntu you can use the package tesseract-ocr. For\n",
      "Mac OS users. please install homebrew package tesseract.\n",
      "\n",
      "Note: Make sure that you also have installed tessconfigs and configs from tesseract-ocr/tessconfigs or via\n",
      "the OS package manager.\n",
      "Installing via pip:\n",
      "\n",
      "check the SjEEEEEREEIEEEBE for more information.\n",
      "\n",
      " \n",
      "\f",
      "\n"
     ]
    }
   ],
   "source": [
    "from PIL import Image\n",
    "import pytesseract\n",
    "\n",
    "\n",
    "image = Image.open('./input/install.png')\n",
    "content = pytesseract.image_to_string(image)   \n",
    "print(content)"
   ]
  },
  {
   "cell_type": "code",
   "execution_count": 39,
   "metadata": {},
   "outputs": [
    {
     "name": "stdout",
     "output_type": "stream",
     "text": [
      "Page number: 0\n",
      "Orientation in degrees: 180\n",
      "Rotate: 180\n",
      "Orientation confidence: 2.18\n",
      "Script: Cyrillic\n",
      "Script confidence: 0.58\n",
      "\n"
     ]
    }
   ],
   "source": [
    "print(pytesseract.image_to_osd(image))"
   ]
  },
  {
   "cell_type": "code",
   "execution_count": 40,
   "metadata": {
    "collapsed": true,
    "jupyter": {
     "outputs_hidden": true
    }
   },
   "outputs": [
    {
     "name": "stdout",
     "output_type": "stream",
     "text": [
      "level\tpage_num\tblock_num\tpar_num\tline_num\tword_num\tleft\ttop\twidth\theight\tconf\ttext\n",
      "1\t1\t0\t0\t0\t0\t0\t0\t897\t450\t-1\t\n",
      "2\t1\t1\t0\t0\t0\t74\t10\t126\t14\t-1\t\n",
      "3\t1\t1\t1\t0\t0\t74\t10\t126\t14\t-1\t\n",
      "4\t1\t1\t1\t1\t0\t74\t10\t126\t14\t-1\t\n",
      "5\t1\t1\t1\t1\t1\t74\t10\t126\t14\t96\tINSTALLATION\n",
      "2\t1\t2\t0\t0\t0\t74\t70\t90\t14\t-1\t\n",
      "3\t1\t2\t1\t0\t0\t74\t70\t90\t14\t-1\t\n",
      "4\t1\t2\t1\t1\t0\t74\t70\t90\t14\t-1\t\n",
      "5\t1\t2\t1\t1\t1\t74\t70\t90\t14\t95\tPrerequisites:\n",
      "2\t1\t3\t0\t0\t0\t86\t110\t768\t192\t-1\t\n",
      "3\t1\t3\t1\t0\t0\t86\t110\t270\t15\t-1\t\n",
      "4\t1\t3\t1\t1\t0\t86\t110\t270\t15\t-1\t\n",
      "5\t1\t3\t1\t1\t1\t86\t115\t5\t5\t46\t+\n",
      "5\t1\t3\t1\t1\t2\t104\t110\t112\t15\t90\tPython-tesseract\n",
      "5\t1\t3\t1\t1\t3\t220\t111\t54\t14\t96\trequires\n",
      "5\t1\t3\t1\t1\t4\t278\t110\t46\t15\t93\tPython\n",
      "5\t1\t3\t1\t1\t5\t329\t111\t27\t11\t92\t3.6+\n",
      "3\t1\t3\t2\t0\t0\t86\t138\t735\t40\t-1\t\n",
      "4\t1\t3\t2\t1\t0\t86\t138\t735\t16\t-1\t\n",
      "5\t1\t3\t2\t1\t1\t86\t143\t5\t5\t63\t*\n",
      "5\t1\t3\t2\t1\t2\t103\t139\t23\t11\t88\tYou\n",
      "5\t1\t3\t2\t1\t3\t131\t138\t23\t12\t88\twill\n",
      "5\t1\t3\t2\t1\t4\t158\t138\t32\t12\t96\tneed\n",
      "5\t1\t3\t2\t1\t5\t194\t138\t22\t12\t96\tthe\n",
      "5\t1\t3\t2\t1\t6\t220\t138\t46\t15\t96\tPython\n",
      "5\t1\t3\t2\t1\t7\t272\t139\t53\t15\t95\tImaging\n",
      "5\t1\t3\t2\t1\t8\t329\t138\t46\t15\t96\tLibrary\n",
      "5\t1\t3\t2\t1\t9\t380\t138\t28\t15\t96\t(PIL)\n",
      "5\t1\t3\t2\t1\t10\t413\t138\t18\t15\t96\t(or\n",
      "5\t1\t3\t2\t1\t11\t435\t138\t21\t12\t96\tthe\n",
      "5\t1\t3\t2\t1\t12\t460\t138\t41\t16\t92\tPillow\n",
      "5\t1\t3\t2\t1\t13\t505\t138\t34\t15\t92\tfork).\n",
      "5\t1\t3\t2\t1\t14\t544\t138\t41\t12\t93\tUnder\n",
      "5\t1\t3\t2\t1\t15\t589\t138\t106\t15\t86\tDebian/Ubuntu,\n",
      "5\t1\t3\t2\t1\t16\t699\t138\t24\t12\t94\tthis\n",
      "5\t1\t3\t2\t1\t17\t727\t139\t10\t11\t96\tis\n",
      "5\t1\t3\t2\t1\t18\t741\t138\t21\t12\t96\tthe\n",
      "5\t1\t3\t2\t1\t19\t767\t138\t54\t16\t91\tpackage\n",
      "4\t1\t3\t2\t2\t0\t104\t162\t251\t16\t-1\t\n",
      "5\t1\t3\t2\t2\t1\t104\t162\t109\t16\t92\tpython-imaging\n",
      "5\t1\t3\t2\t2\t2\t217\t166\t14\t8\t93\tor\n",
      "5\t1\t3\t2\t2\t3\t235\t162\t120\t16\t86\tpython3-imaging.\n",
      "3\t1\t3\t3\t0\t0\t86\t190\t768\t112\t-1\t\n",
      "4\t1\t3\t3\t1\t0\t86\t190\t731\t16\t-1\t\n",
      "5\t1\t3\t3\t1\t1\t86\t195\t5\t5\t65\t*\n",
      "5\t1\t3\t3\t1\t2\t104\t190\t39\t12\t92\tInstall\n",
      "5\t1\t3\t3\t1\t3\t147\t190\t47\t16\t94\tGoogle\n",
      "5\t1\t3\t3\t1\t4\t198\t191\t62\t11\t96\tTesseract\n",
      "5\t1\t3\t3\t1\t5\t264\t191\t28\t11\t96\tOCR\n",
      "5\t1\t3\t3\t1\t6\t296\t190\t72\t15\t96\t(additional\n",
      "5\t1\t3\t3\t1\t7\t373\t190\t24\t12\t95\tinfo\n",
      "5\t1\t3\t3\t1\t8\t402\t190\t27\t12\t96\thow\n",
      "5\t1\t3\t3\t1\t9\t433\t192\t13\t10\t96\tto\n",
      "5\t1\t3\t3\t1\t10\t451\t190\t39\t12\t93\tinstall\n",
      "5\t1\t3\t3\t1\t11\t494\t190\t21\t12\t93\tthe\n",
      "5\t1\t3\t3\t1\t12\t519\t191\t45\t15\t94\tengine\n",
      "5\t1\t3\t3\t1\t13\t568\t194\t16\t8\t95\ton\n",
      "5\t1\t3\t3\t1\t14\t589\t191\t39\t14\t95\tLinux,\n",
      "5\t1\t3\t3\t1\t15\t633\t191\t25\t11\t96\tMac\n",
      "5\t1\t3\t3\t1\t16\t662\t191\t27\t11\t96\tOSX\n",
      "5\t1\t3\t3\t1\t17\t693\t190\t24\t12\t96\tand\n",
      "5\t1\t3\t3\t1\t18\t722\t190\t68\t15\t96\tWindows).\n",
      "5\t1\t3\t3\t1\t19\t794\t191\t23\t11\t96\tYou\n",
      "4\t1\t3\t3\t2\t0\t104\t214\t732\t15\t-1\t\n",
      "5\t1\t3\t3\t2\t1\t104\t216\t33\t10\t96\tmust\n",
      "5\t1\t3\t3\t2\t2\t141\t214\t15\t12\t96\tbe\n",
      "5\t1\t3\t3\t2\t3\t160\t214\t28\t12\t96\table\n",
      "5\t1\t3\t3\t2\t4\t192\t216\t13\t10\t96\tto\n",
      "5\t1\t3\t3\t2\t5\t210\t214\t43\t12\t96\tinvoke\n",
      "5\t1\t3\t3\t2\t6\t257\t214\t21\t12\t93\tthe\n",
      "5\t1\t3\t3\t2\t7\t282\t216\t60\t10\t91\ttesseract\n",
      "5\t1\t3\t3\t2\t8\t346\t214\t66\t12\t96\tcommand\n",
      "5\t1\t3\t3\t2\t9\t417\t218\t14\t8\t93\tas\n",
      "5\t1\t3\t3\t2\t10\t435\t216\t62\t10\t92\ttesseract.\n",
      "5\t1\t3\t3\t2\t11\t502\t214\t8\t12\t96\tIf\n",
      "5\t1\t3\t3\t2\t12\t513\t214\t24\t12\t96\tthis\n",
      "5\t1\t3\t3\t2\t13\t542\t215\t27\t11\t96\tisn’t\n",
      "5\t1\t3\t3\t2\t14\t573\t214\t21\t12\t96\tthe\n",
      "5\t1\t3\t3\t2\t15\t598\t218\t33\t11\t96\tcase,\n",
      "5\t1\t3\t3\t2\t16\t635\t214\t19\t12\t96\tfor\n",
      "5\t1\t3\t3\t2\t17\t657\t207\t54\t26\t93\texample\n",
      "5\t1\t3\t3\t2\t18\t718\t214\t54\t12\t93\tbecause\n",
      "5\t1\t3\t3\t2\t19\t776\t216\t60\t10\t83\ttesseract\n",
      "4\t1\t3\t3\t3\t0\t104\t238\t474\t16\t-1\t\n",
      "5\t1\t3\t3\t3\t1\t104\t239\t27\t11\t78\tisn’t\n",
      "5\t1\t3\t3\t3\t2\t135\t239\t11\t11\t78\tin\n",
      "5\t1\t3\t3\t3\t3\t151\t242\t30\t11\t96\tyour\n",
      "5\t1\t3\t3\t3\t4\t185\t239\t37\t14\t96\tPATH,\n",
      "5\t1\t3\t3\t3\t5\t226\t242\t24\t11\t96\tyou\n",
      "5\t1\t3\t3\t3\t6\t255\t238\t22\t12\t96\twill\n",
      "5\t1\t3\t3\t3\t7\t282\t238\t31\t12\t95\thave\n",
      "5\t1\t3\t3\t3\t8\t317\t240\t13\t10\t95\tto\n",
      "5\t1\t3\t3\t3\t9\t334\t238\t48\t16\t96\tchange\n",
      "5\t1\t3\t3\t3\t10\t386\t238\t21\t12\t92\tthe\n",
      "5\t1\t3\t3\t3\t11\t411\t238\t110\t14\t87\t“tesseract_cmd”\n",
      "5\t1\t3\t3\t3\t12\t525\t238\t53\t12\t95\tvariable\n",
      "4\t1\t3\t3\t4\t0\t107\t262\t747\t16\t-1\t\n",
      "5\t1\t3\t3\t4\t1\t97\t252\t104\t32\t30\tpytesseract.\n",
      "5\t1\t3\t3\t4\t2\t204\t252\t95\t32\t81\tpytesseract.\n",
      "5\t1\t3\t3\t4\t3\t303\t272\t111\t2\t18\ttesseract_cnd.\n",
      "5\t1\t3\t3\t4\t4\t419\t262\t41\t12\t93\tUnder\n",
      "5\t1\t3\t3\t4\t5\t464\t262\t101\t15\t90\tDebian/Ubuntu\n",
      "5\t1\t3\t3\t4\t6\t570\t266\t23\t11\t96\tyou\n",
      "5\t1\t3\t3\t4\t7\t598\t266\t23\t8\t96\tcan\n",
      "5\t1\t3\t3\t4\t8\t626\t266\t22\t8\t96\tuse\n",
      "5\t1\t3\t3\t4\t9\t652\t262\t21\t12\t96\tthe\n",
      "5\t1\t3\t3\t4\t10\t678\t252\t52\t32\t93\tpackage\n",
      "5\t1\t3\t3\t4\t11\t729\t252\t99\t32\t92\ttesseract-ocr.\n",
      "5\t1\t3\t3\t4\t12\t833\t263\t21\t11\t93\tFor\n",
      "4\t1\t3\t3\t5\t0\t104\t286\t384\t16\t-1\t\n",
      "5\t1\t3\t3\t5\t1\t104\t287\t25\t11\t96\tMac\n",
      "5\t1\t3\t3\t5\t2\t134\t287\t18\t11\t91\tOS\n",
      "5\t1\t3\t3\t5\t3\t156\t290\t38\t8\t94\tusers.\n",
      "5\t1\t3\t3\t5\t4\t199\t286\t42\t15\t96\tplease\n",
      "5\t1\t3\t3\t5\t5\t246\t286\t39\t12\t96\tinstall\n",
      "5\t1\t3\t3\t5\t6\t289\t286\t71\t12\t96\thomebrew\n",
      "5\t1\t3\t3\t5\t7\t365\t286\t54\t16\t93\tpackage\n",
      "5\t1\t3\t3\t5\t8\t423\t288\t65\t10\t91\ttesseract.\n",
      "2\t1\t4\t0\t0\t0\t74\t325\t757\t66\t-1\t\n",
      "3\t1\t4\t1\t0\t0\t74\t325\t757\t66\t-1\t\n",
      "4\t1\t4\t1\t1\t0\t103\t325\t728\t15\t-1\t\n",
      "5\t1\t4\t1\t1\t1\t103\t326\t34\t11\t91\tNote:\n",
      "5\t1\t4\t1\t1\t2\t142\t325\t34\t12\t96\tMake\n",
      "5\t1\t4\t1\t1\t3\t180\t329\t28\t8\t96\tsure\n",
      "5\t1\t4\t1\t1\t4\t206\t317\t31\t30\t96\tthat\n",
      "5\t1\t4\t1\t1\t5\t242\t317\t15\t30\t96\tyou\n",
      "5\t1\t4\t1\t1\t6\t270\t325\t27\t12\t96\talso\n",
      "5\t1\t4\t1\t1\t7\t302\t325\t30\t12\t96\thave\n",
      "5\t1\t4\t1\t1\t8\t337\t325\t55\t12\t92\tinstalled\n",
      "5\t1\t4\t1\t1\t9\t400\t327\t88\t13\t90\ttessconfigs\n",
      "5\t1\t4\t1\t1\t10\t496\t325\t24\t12\t95\tand\n",
      "5\t1\t4\t1\t1\t11\t528\t327\t55\t13\t95\tconfigs\n",
      "5\t1\t4\t1\t1\t12\t591\t325\t31\t12\t93\tfrom\n",
      "5\t1\t4\t1\t1\t13\t626\t325\t150\t12\t81\ttesseract-ocr/tessconfigs\n",
      "5\t1\t4\t1\t1\t14\t791\t317\t16\t30\t96\tor\n",
      "5\t1\t4\t1\t1\t15\t812\t317\t19\t30\t96\tvia\n",
      "4\t1\t4\t1\t2\t0\t103\t349\t168\t16\t-1\t\n",
      "5\t1\t4\t1\t2\t1\t103\t349\t22\t12\t96\tthe\n",
      "5\t1\t4\t1\t2\t2\t129\t350\t18\t11\t92\tOS\n",
      "5\t1\t4\t1\t2\t3\t152\t349\t54\t16\t92\tpackage\n",
      "5\t1\t4\t1\t2\t4\t210\t353\t61\t12\t96\tmanager.\n",
      "4\t1\t4\t1\t3\t0\t74\t375\t107\t16\t-1\t\n",
      "5\t1\t4\t1\t3\t1\t74\t375\t60\t16\t90\tInstalling\n",
      "5\t1\t4\t1\t3\t2\t138\t376\t18\t11\t96\tvia\n",
      "5\t1\t4\t1\t3\t3\t161\t376\t20\t14\t95\tpip:\n",
      "2\t1\t5\t0\t0\t0\t74\t408\t385\t24\t-1\t\n",
      "3\t1\t5\t1\t0\t0\t74\t408\t385\t24\t-1\t\n",
      "4\t1\t5\t1\t1\t0\t74\t408\t385\t24\t-1\t\n",
      "5\t1\t5\t1\t1\t1\t66\t395\t46\t42\t75\tcheck\n",
      "5\t1\t5\t1\t1\t2\t117\t414\t22\t12\t87\tthe\n",
      "5\t1\t5\t1\t1\t3\t140\t408\t195\t24\t0\tSjEEEEEREEIEEEBE\n",
      "5\t1\t5\t1\t1\t4\t315\t395\t21\t42\t87\tfor\n",
      "5\t1\t5\t1\t1\t5\t340\t418\t33\t8\t85\tmore\n",
      "5\t1\t5\t1\t1\t6\t378\t414\t81\t12\t85\tinformation.\n",
      "2\t1\t6\t0\t0\t0\t183\t379\t2\t3\t-1\t\n",
      "3\t1\t6\t1\t0\t0\t183\t379\t2\t3\t-1\t\n",
      "4\t1\t6\t1\t1\t0\t183\t379\t2\t3\t-1\t\n",
      "5\t1\t6\t1\t1\t1\t183\t379\t2\t3\t95\t \n",
      "\n"
     ]
    }
   ],
   "source": [
    "print(pytesseract.image_to_data(image))"
   ]
  },
  {
   "cell_type": "code",
   "execution_count": null,
   "metadata": {},
   "outputs": [],
   "source": []
  },
  {
   "cell_type": "code",
   "execution_count": null,
   "metadata": {
    "jupyter": {
     "source_hidden": true
    }
   },
   "outputs": [],
   "source": []
  },
  {
   "cell_type": "code",
   "execution_count": null,
   "metadata": {},
   "outputs": [],
   "source": []
  },
  {
   "cell_type": "code",
   "execution_count": 41,
   "metadata": {},
   "outputs": [
    {
     "name": "stdout",
     "output_type": "stream",
     "text": [
      "RiRBIET—TSF, IRAE. HEA—F, Tesseract FVERHNIRIRARARH NRE, PTDASCRRIRSIAT RE\n",
      "REN AA MTIRITANE, ABVENAR, DUS IRIE.\n",
      "\f",
      "\n"
     ]
    }
   ],
   "source": [
    "print(pytesseract.image_to_string(Image.open('./input/recognize.png')))"
   ]
  },
  {
   "cell_type": "code",
   "execution_count": 42,
   "metadata": {},
   "outputs": [
    {
     "name": "stdout",
     "output_type": "stream",
     "text": [
      "只 识 别 错 了 一 个 字 , 识 别 率 还 是 不 错的 。 说 明 一 下 ,Tesseract 寺 于 彩 色 图 片 的 识 别 没 有 黑 白 图 片 的 效 果 好 , 所 以 实 际 识 别 时 最\n",
      "好 能 对 国 片 迹 行 陵 岚 处 理 , 去 排 彬 色 和 杂 质 , 以 提 高 识 别 的 准 碍 度 。\n",
      "\f",
      "\n"
     ]
    }
   ],
   "source": [
    "print(pytesseract.image_to_string(Image.open('./input/recognize.png'),lang='chi_sim'))"
   ]
  },
  {
   "cell_type": "code",
   "execution_count": 43,
   "metadata": {},
   "outputs": [
    {
     "name": "stdout",
     "output_type": "stream",
     "text": [
      "1234567890123\n",
      "\f",
      "\n"
     ]
    }
   ],
   "source": [
    "print(pytesseract.image_to_string(Image.open('./input/bar_code.png')))"
   ]
  },
  {
   "cell_type": "code",
   "execution_count": null,
   "metadata": {},
   "outputs": [],
   "source": []
  }
 ],
 "metadata": {
  "kernelspec": {
   "display_name": "Python 3",
   "language": "python",
   "name": "python3"
  },
  "language_info": {
   "codemirror_mode": {
    "name": "ipython",
    "version": 3
   },
   "file_extension": ".py",
   "mimetype": "text/x-python",
   "name": "python",
   "nbconvert_exporter": "python",
   "pygments_lexer": "ipython3",
   "version": "3.7.7"
  }
 },
 "nbformat": 4,
 "nbformat_minor": 4
}
