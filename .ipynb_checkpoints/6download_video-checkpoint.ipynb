{
 "cells": [
  {
   "cell_type": "markdown",
   "metadata": {},
   "source": [
    "## Two steps to download a video use only URL\n",
    "\n",
    "> pip install you-get\n",
    "\n",
    "> you-get 'the url that has the video content'\n"
   ]
  },
  {
   "cell_type": "markdown",
   "metadata": {},
   "source": [
    "[you-get documentation](https://github.com/soimort/you-get)"
   ]
  },
  {
   "cell_type": "code",
   "execution_count": null,
   "metadata": {},
   "outputs": [],
   "source": [
    "!pip install you-get"
   ]
  },
  {
   "cell_type": "code",
   "execution_count": null,
   "metadata": {},
   "outputs": [],
   "source": [
    "!you-get 'https://www.bilibili.com/video/BV1yK4y1G7Ka'"
   ]
  },
  {
   "cell_type": "code",
   "execution_count": null,
   "metadata": {},
   "outputs": [],
   "source": [
    "!you-get -i 'https://www.youtube.com/watch?v=8moWQ1561FY&t=171'"
   ]
  },
  {
   "cell_type": "code",
   "execution_count": null,
   "metadata": {},
   "outputs": [],
   "source": [
    "!you-get --itag=18 'https://www.youtube.com/watch?v=3amLsamhtCg&list=PL5QAQBV5zCqXqrXaWACI3ZACs5XgWPJup&index=2'"
   ]
  },
  {
   "cell_type": "code",
   "execution_count": null,
   "metadata": {},
   "outputs": [],
   "source": []
  },
  {
   "cell_type": "markdown",
   "metadata": {},
   "source": [
    "## Download mutiple videos\n",
    "## 批量下载视频"
   ]
  },
  {
   "cell_type": "code",
   "execution_count": null,
   "metadata": {},
   "outputs": [],
   "source": [
    "import os\n",
    " \n",
    "f=os.popen(\"ls input\")  # 返回的是一个文件对象\n",
    "print(f.read()) "
   ]
  },
  {
   "cell_type": "code",
   "execution_count": null,
   "metadata": {},
   "outputs": [],
   "source": [
    "f=os.popen(\"you-get -o ./output 'https://www.bilibili.com/video/BV1yK4y1G7Ka'\")  # 返回的是一个文件对象\n",
    "print(f.read()) "
   ]
  },
  {
   "cell_type": "code",
   "execution_count": null,
   "metadata": {},
   "outputs": [],
   "source": [
    "import os\n",
    "\n",
    "# os.system(\"touch a\")\n",
    "os.system(\"rm a\")"
   ]
  },
  {
   "cell_type": "code",
   "execution_count": null,
   "metadata": {},
   "outputs": [],
   "source": [
    "os.system(\"you-get -o ./output 'https://www.bilibili.com/video/BV1yK4y1G7Ka'\")"
   ]
  },
  {
   "cell_type": "code",
   "execution_count": null,
   "metadata": {},
   "outputs": [],
   "source": []
  },
  {
   "cell_type": "code",
   "execution_count": null,
   "metadata": {},
   "outputs": [],
   "source": [
    "import os\n",
    "\n",
    "url_list = [\"https://www.bilibili.com/video/BV1yK4y1G7Ka\",\n",
    "            \"https://www.bilibili.com/video/BV1cf4y1Y7CE?p=1\",\n",
    "            \"https://www.bilibili.com/video/BV1cf4y1Y7CE?p=2\",\n",
    "           ]\n",
    "\n",
    "for url in url_list:\n",
    "    os.system(f\"you-get -o ./output {url}\")\n",
    "    print(\"finish download one video!\")"
   ]
  },
  {
   "cell_type": "code",
   "execution_count": null,
   "metadata": {},
   "outputs": [],
   "source": [
    "import os \n",
    "url = \"https://www.bilibili.com/video/BV1cf4y1Y7CE?p=\"\n",
    "\n",
    "for i in range(1,3):\n",
    "    os.system(f\"you-get -o ./output {url+str(i)}\")"
   ]
  },
  {
   "cell_type": "code",
   "execution_count": null,
   "metadata": {},
   "outputs": [],
   "source": []
  }
 ],
 "metadata": {
  "kernelspec": {
   "display_name": "Python 3",
   "language": "python",
   "name": "python3"
  },
  "language_info": {
   "codemirror_mode": {
    "name": "ipython",
    "version": 3
   },
   "file_extension": ".py",
   "mimetype": "text/x-python",
   "name": "python",
   "nbconvert_exporter": "python",
   "pygments_lexer": "ipython3",
   "version": "3.7.7"
  }
 },
 "nbformat": 4,
 "nbformat_minor": 4
}
