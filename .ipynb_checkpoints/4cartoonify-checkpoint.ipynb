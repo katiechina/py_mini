{
 "cells": [
  {
   "cell_type": "code",
   "execution_count": null,
   "metadata": {},
   "outputs": [],
   "source": [
    "!pip install opencv-python"
   ]
  },
  {
   "cell_type": "markdown",
   "metadata": {},
   "source": [
    "[opencv-python documentation](https://docs.opencv.org/master/df/dac/group__photo__render.html)"
   ]
  },
  {
   "cell_type": "code",
   "execution_count": 2,
   "metadata": {},
   "outputs": [
    {
     "name": "stdout",
     "output_type": "stream",
     "text": [
      "cartoonify.ipynb       the_road_not_taken.txt voice.mp3\n",
      "\u001b[1m\u001b[36mimage\u001b[m\u001b[m                  txtToMp3.ipynb         voice_recorder.ipynb\n"
     ]
    }
   ],
   "source": [
    "!ls"
   ]
  },
  {
   "cell_type": "code",
   "execution_count": 3,
   "metadata": {},
   "outputs": [],
   "source": [
    "# import os\n",
    "# os.listdir('.')"
   ]
  },
  {
   "cell_type": "code",
   "execution_count": 3,
   "metadata": {},
   "outputs": [],
   "source": [
    "import cv2\n",
    "import sys\n",
    "\n",
    "img = sys.path[0] +'/image/arya.jpeg'\n",
    "\n",
    "color_image = cv2.imread(img)\n",
    "## show image without the process.\n",
    "cv2.imshow(\"image_not_processed\",color_image) \n",
    "cv2.waitKey()\n",
    "cv2.destroyAllWindows()"
   ]
  },
  {
   "cell_type": "code",
   "execution_count": 4,
   "metadata": {},
   "outputs": [
    {
     "name": "stdin",
     "output_type": "stream",
     "text": [
      "This script has 2 sytles. Please type 1 or 2.   2\n"
     ]
    }
   ],
   "source": [
    "cartoon_style_selection = input(\"This script has 2 sytles. Please type 1 or 2: \")\n",
    "\n",
    "if (cartoon_style_selection == \"1\"):\n",
    "    ## Cartoonify process.\n",
    "    cartoon_image_style_1 = cv2.stylization(color_image, sigma_s=150, sigma_r=0.25)  \n",
    "    cv2.imshow('cartoon_1', cartoon_image_style_1)\n",
    "    cv2.waitKey()\n",
    "    cv2.destroyAllWindows()\n",
    "    \n",
    "elif (cartoon_style_selection == \"2\"):\n",
    "    ## Cartoonify process.\n",
    "    cartoon_image_style_2  = cv2.stylization(color_image, sigma_s=60, sigma_r=0.5)  \n",
    "    cv2.imshow('cartoon_2', cartoon_image_style_2)\n",
    "    cv2.waitKey()\n",
    "    cv2.destroyAllWindows()\n",
    "\n",
    "else:\n",
    "    print(\"Invalid style selection.\")"
   ]
  },
  {
   "cell_type": "code",
   "execution_count": 4,
   "metadata": {},
   "outputs": [],
   "source": [
    "cv2.destroyAllWindows()"
   ]
  },
  {
   "cell_type": "code",
   "execution_count": null,
   "metadata": {},
   "outputs": [],
   "source": []
  }
 ],
 "metadata": {
  "kernelspec": {
   "display_name": "Python 3",
   "language": "python",
   "name": "python3"
  },
  "language_info": {
   "codemirror_mode": {
    "name": "ipython",
    "version": 3
   },
   "file_extension": ".py",
   "mimetype": "text/x-python",
   "name": "python",
   "nbconvert_exporter": "python",
   "pygments_lexer": "ipython3",
   "version": "3.7.7"
  }
 },
 "nbformat": 4,
 "nbformat_minor": 4
}
