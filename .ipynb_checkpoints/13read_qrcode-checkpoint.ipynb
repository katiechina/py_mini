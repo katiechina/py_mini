{
 "cells": [
  {
   "cell_type": "markdown",
   "metadata": {},
   "source": [
    "# Read QR Code\n",
    "# 识别二维码"
   ]
  },
  {
   "cell_type": "markdown",
   "metadata": {},
   "source": [
    "[pyzbar doc](https://pypi.org/project/pyzbar/)"
   ]
  },
  {
   "cell_type": "code",
   "execution_count": 1,
   "metadata": {},
   "outputs": [
    {
     "name": "stdout",
     "output_type": "stream",
     "text": [
      "Collecting pyzbar\n",
      "  Downloading pyzbar-0.1.8-py2.py3-none-any.whl (28 kB)\n",
      "Installing collected packages: pyzbar\n",
      "Successfully installed pyzbar-0.1.8\n"
     ]
    }
   ],
   "source": [
    "!pip install pyzbar"
   ]
  },
  {
   "cell_type": "code",
   "execution_count": 4,
   "metadata": {},
   "outputs": [
    {
     "name": "stdout",
     "output_type": "stream",
     "text": [
      "\u001b[34m==>\u001b[0m \u001b[1mDownloading https://ghcr.io/v2/homebrew/core/jbig2dec/manifests/0.19\u001b[0m\n",
      "######################################################################## 100.0%\n",
      "\u001b[34m==>\u001b[0m \u001b[1mDownloading https://ghcr.io/v2/homebrew/core/jbig2dec/blobs/sha256:44aa9639d\u001b[0m\n",
      "\u001b[34m==>\u001b[0m \u001b[1mDownloading from https://pkg-containers.githubusercontent.com/ghcr1/blobs/sh\u001b[0m\n",
      "######################################################################## 100.0%\n",
      "\u001b[34m==>\u001b[0m \u001b[1mDownloading https://ghcr.io/v2/homebrew/core/libidn/manifests/1.37\u001b[0m\n",
      "######################################################################## 100.0%\n",
      "\u001b[34m==>\u001b[0m \u001b[1mDownloading https://ghcr.io/v2/homebrew/core/libidn/blobs/sha256:87d313494a3\u001b[0m\n",
      "\u001b[34m==>\u001b[0m \u001b[1mDownloading from https://pkg-containers.githubusercontent.com/ghcr1/blobs/sh\u001b[0m\n",
      "######################################################################## 100.0%\n",
      "\u001b[34m==>\u001b[0m \u001b[1mDownloading https://ghcr.io/v2/homebrew/core/ghostscript/manifests/9.54.0\u001b[0m\n",
      "######################################################################## 100.0%\n",
      "\u001b[34m==>\u001b[0m \u001b[1mDownloading https://ghcr.io/v2/homebrew/core/ghostscript/blobs/sha256:cfe91b\u001b[0m\n",
      "\u001b[34m==>\u001b[0m \u001b[1mDownloading from https://pkg-containers.githubusercontent.com/ghcr1/blobs/sh\u001b[0m\n",
      "######################################################################## 100.0%\n",
      "\u001b[34m==>\u001b[0m \u001b[1mDownloading https://ghcr.io/v2/homebrew/core/libde265/manifests/1.0.8\u001b[0m\n",
      "######################################################################## 100.0%\n",
      "\u001b[34m==>\u001b[0m \u001b[1mDownloading https://ghcr.io/v2/homebrew/core/libde265/blobs/sha256:6c809d037\u001b[0m\n",
      "\u001b[34m==>\u001b[0m \u001b[1mDownloading from https://pkg-containers.githubusercontent.com/ghcr1/blobs/sh\u001b[0m\n",
      "######################################################################## 100.0%\n",
      "\u001b[34m==>\u001b[0m \u001b[1mDownloading https://ghcr.io/v2/homebrew/core/docbook/manifests/5.1_1\u001b[0m\n",
      "######################################################################## 100.0%\n",
      "\u001b[34m==>\u001b[0m \u001b[1mDownloading https://ghcr.io/v2/homebrew/core/docbook/blobs/sha256:2c4e8398b5\u001b[0m\n",
      "\u001b[34m==>\u001b[0m \u001b[1mDownloading from https://pkg-containers.githubusercontent.com/ghcr1/blobs/sh\u001b[0m\n",
      "######################################################################## 100.0%\n",
      "\u001b[34m==>\u001b[0m \u001b[1mDownloading https://ghcr.io/v2/homebrew/core/docbook-xsl/manifests/1.79.2_1\u001b[0m\n",
      "######################################################################## 100.0%\n",
      "\u001b[34m==>\u001b[0m \u001b[1mDownloading https://ghcr.io/v2/homebrew/core/docbook-xsl/blobs/sha256:cfdfee\u001b[0m\n",
      "\u001b[34m==>\u001b[0m \u001b[1mDownloading from https://pkg-containers.githubusercontent.com/ghcr1/blobs/sh\u001b[0m\n",
      "######################################################################## 100.0%\n",
      "\u001b[34m==>\u001b[0m \u001b[1mDownloading https://ghcr.io/v2/homebrew/core/gnu-getopt/manifests/2.37\u001b[0m\n",
      "######################################################################## 100.0%\n",
      "\u001b[34m==>\u001b[0m \u001b[1mDownloading https://ghcr.io/v2/homebrew/core/gnu-getopt/blobs/sha256:e9b50df\u001b[0m\n",
      "\u001b[34m==>\u001b[0m \u001b[1mDownloading from https://pkg-containers.githubusercontent.com/ghcr1/blobs/sh\u001b[0m\n",
      "######################################################################## 100.0%\n",
      "\u001b[34m==>\u001b[0m \u001b[1mDownloading https://ghcr.io/v2/homebrew/core/xmlto/manifests/0.0.28-2\u001b[0m\n",
      "######################################################################## 100.0%\n",
      "\u001b[34m==>\u001b[0m \u001b[1mDownloading https://ghcr.io/v2/homebrew/core/xmlto/blobs/sha256:95502b710003\u001b[0m\n",
      "\u001b[34m==>\u001b[0m \u001b[1mDownloading from https://pkg-containers.githubusercontent.com/ghcr1/blobs/sh\u001b[0m\n",
      "######################################################################## 100.0%\n",
      "\u001b[34m==>\u001b[0m \u001b[1mDownloading https://ghcr.io/v2/homebrew/core/shared-mime-info/manifests/2.1\u001b[0m\n",
      "######################################################################## 100.0%\n",
      "\u001b[34m==>\u001b[0m \u001b[1mDownloading https://ghcr.io/v2/homebrew/core/shared-mime-info/blobs/sha256:4\u001b[0m\n",
      "\u001b[34m==>\u001b[0m \u001b[1mDownloading from https://pkg-containers.githubusercontent.com/ghcr1/blobs/sh\u001b[0m\n",
      "######################################################################## 100.0%\n",
      "\u001b[34m==>\u001b[0m \u001b[1mDownloading https://ghcr.io/v2/homebrew/core/libheif/manifests/1.12.0\u001b[0m\n",
      "######################################################################## 100.0%\n",
      "\u001b[34m==>\u001b[0m \u001b[1mDownloading https://ghcr.io/v2/homebrew/core/libheif/blobs/sha256:446b224203\u001b[0m\n",
      "\u001b[34m==>\u001b[0m \u001b[1mDownloading from https://pkg-containers.githubusercontent.com/ghcr1/blobs/sh\u001b[0m\n",
      "######################################################################## 100.0%\n",
      "\u001b[34m==>\u001b[0m \u001b[1mDownloading https://ghcr.io/v2/homebrew/core/liblqr/manifests/0.4.2_1-1\u001b[0m\n",
      "######################################################################## 100.0%\n",
      "\u001b[34m==>\u001b[0m \u001b[1mDownloading https://ghcr.io/v2/homebrew/core/liblqr/blobs/sha256:94977eaf2a6\u001b[0m\n",
      "\u001b[34m==>\u001b[0m \u001b[1mDownloading from https://pkg-containers.githubusercontent.com/ghcr1/blobs/sh\u001b[0m\n",
      "######################################################################## 100.0%\n",
      "\u001b[34m==>\u001b[0m \u001b[1mDownloading https://ghcr.io/v2/homebrew/core/libomp/manifests/12.0.0\u001b[0m\n",
      "######################################################################## 100.0%\n",
      "\u001b[34m==>\u001b[0m \u001b[1mDownloading https://ghcr.io/v2/homebrew/core/libomp/blobs/sha256:fe1e5c0fa8f\u001b[0m\n",
      "\u001b[34m==>\u001b[0m \u001b[1mDownloading from https://pkg-containers.githubusercontent.com/ghcr1/blobs/sh\u001b[0m\n",
      "######################################################################## 100.0%\n",
      "\u001b[34m==>\u001b[0m \u001b[1mDownloading https://ghcr.io/v2/homebrew/core/imath/manifests/3.0.4\u001b[0m\n",
      "######################################################################## 100.0%\n",
      "\u001b[34m==>\u001b[0m \u001b[1mDownloading https://ghcr.io/v2/homebrew/core/imath/blobs/sha256:b959374888c1\u001b[0m\n",
      "\u001b[34m==>\u001b[0m \u001b[1mDownloading from https://pkg-containers.githubusercontent.com/ghcr1/blobs/sh\u001b[0m\n",
      "######################################################################## 100.0%\n",
      "\u001b[34m==>\u001b[0m \u001b[1mDownloading https://ghcr.io/v2/homebrew/core/openexr/manifests/3.0.4\u001b[0m\n",
      "######################################################################## 100.0%\n",
      "\u001b[34m==>\u001b[0m \u001b[1mDownloading https://ghcr.io/v2/homebrew/core/openexr/blobs/sha256:cc545cdc67\u001b[0m\n",
      "\u001b[34m==>\u001b[0m \u001b[1mDownloading from https://pkg-containers.githubusercontent.com/ghcr1/blobs/sh\u001b[0m\n",
      "######################################################################## 100.0%\n",
      "\u001b[34m==>\u001b[0m \u001b[1mDownloading https://ghcr.io/v2/homebrew/core/imagemagick/manifests/7.1.0-2\u001b[0m\n",
      "######################################################################## 100.0%\n",
      "\u001b[34m==>\u001b[0m \u001b[1mDownloading https://ghcr.io/v2/homebrew/core/imagemagick/blobs/sha256:5249f0\u001b[0m\n",
      "\u001b[34m==>\u001b[0m \u001b[1mDownloading from https://pkg-containers.githubusercontent.com/ghcr1/blobs/sh\u001b[0m\n",
      "######################################################################## 100.0%\n",
      "\u001b[34m==>\u001b[0m \u001b[1mDownloading https://ghcr.io/v2/homebrew/core/dcraw/manifests/9.28.0\u001b[0m\n",
      "######################################################################## 100.0%\n",
      "\u001b[34m==>\u001b[0m \u001b[1mDownloading https://ghcr.io/v2/homebrew/core/dcraw/blobs/sha256:fc0e1b6d2ac4\u001b[0m\n",
      "\u001b[34m==>\u001b[0m \u001b[1mDownloading from https://pkg-containers.githubusercontent.com/ghcr1/blobs/sh\u001b[0m\n",
      "######################################################################## 100.0%\n",
      "\u001b[34m==>\u001b[0m \u001b[1mDownloading https://ghcr.io/v2/homebrew/core/ufraw/manifests/0.22_3-1\u001b[0m\n",
      "######################################################################## 100.0%\n",
      "\u001b[34m==>\u001b[0m \u001b[1mDownloading https://ghcr.io/v2/homebrew/core/ufraw/blobs/sha256:0abcda85255b\u001b[0m\n",
      "\u001b[34m==>\u001b[0m \u001b[1mDownloading from https://pkg-containers.githubusercontent.com/ghcr1/blobs/sh\u001b[0m\n",
      "######################################################################## 100.0%\n",
      "\u001b[34m==>\u001b[0m \u001b[1mDownloading https://ghcr.io/v2/homebrew/core/zbar/manifests/0.23.90_1\u001b[0m\n",
      "######################################################################## 100.0%\n",
      "\u001b[34m==>\u001b[0m \u001b[1mDownloading https://ghcr.io/v2/homebrew/core/zbar/blobs/sha256:4bdea261367d2\u001b[0m\n",
      "\u001b[34m==>\u001b[0m \u001b[1mDownloading from https://pkg-containers.githubusercontent.com/ghcr1/blobs/sh\u001b[0m\n",
      "######################################################################## 100.0%\n",
      "\u001b[32m==>\u001b[0m \u001b[1mInstalling dependencies for zbar: \u001b[32mjbig2dec\u001b[39m, \u001b[32mlibidn\u001b[39m, \u001b[32mghostscript\u001b[39m, \u001b[32mlibde265\u001b[39m, \u001b[32mdocbook\u001b[39m, \u001b[32mdocbook-xsl\u001b[39m, \u001b[32mgnu-getopt\u001b[39m, \u001b[32mxmlto\u001b[39m, \u001b[32mshared-mime-info\u001b[39m, \u001b[32mlibheif\u001b[39m, \u001b[32mliblqr\u001b[39m, \u001b[32mlibomp\u001b[39m, \u001b[32mimath\u001b[39m, \u001b[32mopenexr\u001b[39m, \u001b[32mimagemagick\u001b[39m, \u001b[32mdcraw\u001b[39m and \u001b[32mufraw\u001b[39m\u001b[0m\n",
      "\u001b[32m==>\u001b[0m \u001b[1mInstalling zbar dependency: \u001b[32mjbig2dec\u001b[39m\u001b[0m\n",
      "\u001b[34m==>\u001b[0m \u001b[1mPouring jbig2dec--0.19.big_sur.bottle.tar.gz\u001b[0m\n",
      "🍺  /usr/local/Cellar/jbig2dec/0.19: 13 files, 373.6KB\n",
      "\u001b[32m==>\u001b[0m \u001b[1mInstalling zbar dependency: \u001b[32mlibidn\u001b[39m\u001b[0m\n",
      "\u001b[34m==>\u001b[0m \u001b[1mPouring libidn--1.37.big_sur.bottle.tar.gz\u001b[0m\n",
      "🍺  /usr/local/Cellar/libidn/1.37: 73 files, 1MB\n",
      "\u001b[32m==>\u001b[0m \u001b[1mInstalling zbar dependency: \u001b[32mghostscript\u001b[39m\u001b[0m\n",
      "\u001b[34m==>\u001b[0m \u001b[1mPouring ghostscript--9.54.0.big_sur.bottle.tar.gz\u001b[0m\n",
      "🍺  /usr/local/Cellar/ghostscript/9.54.0: 683 files, 149.0MB\n",
      "\u001b[32m==>\u001b[0m \u001b[1mInstalling zbar dependency: \u001b[32mlibde265\u001b[39m\u001b[0m\n",
      "\u001b[34m==>\u001b[0m \u001b[1mPouring libde265--1.0.8.big_sur.bottle.tar.gz\u001b[0m\n",
      "🍺  /usr/local/Cellar/libde265/1.0.8: 22 files, 2.4MB\n",
      "\u001b[32m==>\u001b[0m \u001b[1mInstalling zbar dependency: \u001b[32mdocbook\u001b[39m\u001b[0m\n",
      "\u001b[34m==>\u001b[0m \u001b[1mPouring docbook--5.1_1.big_sur.bottle.tar.gz\u001b[0m\n",
      "\u001b[34m==>\u001b[0m \u001b[1mxmlcatalog --noout --create /usr/local/etc/xml/catalog\u001b[0m\n",
      "\u001b[34m==>\u001b[0m \u001b[1mxmlcatalog --noout --del file:///usr/local/opt/docbook/docbook/xml/4.2/catal\u001b[0m\n",
      "\u001b[34m==>\u001b[0m \u001b[1mxmlcatalog --noout --add nextCatalog  file:///usr/local/opt/docbook/docbook/\u001b[0m\n",
      "\u001b[34m==>\u001b[0m \u001b[1mxmlcatalog --noout --del file:///usr/local/opt/docbook/docbook/xml/4.1.2/cat\u001b[0m\n",
      "\u001b[34m==>\u001b[0m \u001b[1mxmlcatalog --noout --add nextCatalog  file:///usr/local/opt/docbook/docbook/\u001b[0m\n",
      "\u001b[34m==>\u001b[0m \u001b[1mxmlcatalog --noout --del file:///usr/local/opt/docbook/docbook/xml/4.3/catal\u001b[0m\n",
      "\u001b[34m==>\u001b[0m \u001b[1mxmlcatalog --noout --add nextCatalog  file:///usr/local/opt/docbook/docbook/\u001b[0m\n",
      "\u001b[34m==>\u001b[0m \u001b[1mxmlcatalog --noout --del file:///usr/local/opt/docbook/docbook/xml/4.4/catal\u001b[0m\n",
      "\u001b[34m==>\u001b[0m \u001b[1mxmlcatalog --noout --add nextCatalog  file:///usr/local/opt/docbook/docbook/\u001b[0m\n",
      "\u001b[34m==>\u001b[0m \u001b[1mxmlcatalog --noout --del file:///usr/local/opt/docbook/docbook/xml/4.5/catal\u001b[0m\n",
      "\u001b[34m==>\u001b[0m \u001b[1mxmlcatalog --noout --add nextCatalog  file:///usr/local/opt/docbook/docbook/\u001b[0m\n",
      "\u001b[34m==>\u001b[0m \u001b[1mxmlcatalog --noout --del file:///usr/local/opt/docbook/docbook/xml/5.0/catal\u001b[0m\n",
      "\u001b[34m==>\u001b[0m \u001b[1mxmlcatalog --noout --add nextCatalog  file:///usr/local/opt/docbook/docbook/\u001b[0m\n",
      "\u001b[34m==>\u001b[0m \u001b[1mxmlcatalog --noout --del file:///usr/local/opt/docbook/docbook/xml/5.1/catal\u001b[0m\n",
      "\u001b[34m==>\u001b[0m \u001b[1mxmlcatalog --noout --add nextCatalog  file:///usr/local/opt/docbook/docbook/\u001b[0m\n",
      "🍺  /usr/local/Cellar/docbook/5.1_1: 199 files, 8.9MB\n",
      "\u001b[32m==>\u001b[0m \u001b[1mInstalling zbar dependency: \u001b[32mdocbook-xsl\u001b[39m\u001b[0m\n",
      "\u001b[34m==>\u001b[0m \u001b[1mPouring docbook-xsl--1.79.2_1.big_sur.bottle.tar.gz\u001b[0m\n",
      "\u001b[34m==>\u001b[0m \u001b[1mxmlcatalog --noout --del file:///usr/local/opt/docbook-xsl/docbook-xsl/catal\u001b[0m\n",
      "\u001b[34m==>\u001b[0m \u001b[1mxmlcatalog --noout --add nextCatalog  file:///usr/local/opt/docbook-xsl/docb\u001b[0m\n",
      "\u001b[34m==>\u001b[0m \u001b[1mxmlcatalog --noout --del https://cdn.docbook.org/release/xsl-nons/1.79.2 /us\u001b[0m\n",
      "\u001b[34m==>\u001b[0m \u001b[1mxmlcatalog --noout --add rewriteSystem https://cdn.docbook.org/release/xsl-n\u001b[0m\n",
      "\u001b[34m==>\u001b[0m \u001b[1mxmlcatalog --noout --add rewriteURI https://cdn.docbook.org/release/xsl-nons\u001b[0m\n",
      "\u001b[34m==>\u001b[0m \u001b[1mxmlcatalog --noout --del https://cdn.docbook.org/release/xsl-nons/current /u\u001b[0m\n",
      "\u001b[34m==>\u001b[0m \u001b[1mxmlcatalog --noout --add rewriteSystem https://cdn.docbook.org/release/xsl-n\u001b[0m\n",
      "\u001b[34m==>\u001b[0m \u001b[1mxmlcatalog --noout --add rewriteURI https://cdn.docbook.org/release/xsl-nons\u001b[0m\n",
      "\u001b[34m==>\u001b[0m \u001b[1mxmlcatalog --noout --del http://docbook.sourceforge.net/release/xsl/1.79.2 /\u001b[0m\n",
      "\u001b[34m==>\u001b[0m \u001b[1mxmlcatalog --noout --add rewriteSystem http://docbook.sourceforge.net/releas\u001b[0m\n",
      "\u001b[34m==>\u001b[0m \u001b[1mxmlcatalog --noout --add rewriteURI http://docbook.sourceforge.net/release/x\u001b[0m\n",
      "\u001b[34m==>\u001b[0m \u001b[1mxmlcatalog --noout --del http://docbook.sourceforge.net/release/xsl/current \u001b[0m\n",
      "\u001b[34m==>\u001b[0m \u001b[1mxmlcatalog --noout --add rewriteSystem http://docbook.sourceforge.net/releas\u001b[0m\n",
      "\u001b[34m==>\u001b[0m \u001b[1mxmlcatalog --noout --add rewriteURI http://docbook.sourceforge.net/release/x\u001b[0m\n",
      "\u001b[34m==>\u001b[0m \u001b[1mxmlcatalog --noout --del file:///usr/local/opt/docbook-xsl/docbook-xsl-ns/ca\u001b[0m\n",
      "\u001b[34m==>\u001b[0m \u001b[1mxmlcatalog --noout --add nextCatalog  file:///usr/local/opt/docbook-xsl/docb\u001b[0m\n",
      "\u001b[34m==>\u001b[0m \u001b[1mxmlcatalog --noout --del https://cdn.docbook.org/release/xsl/1.79.2 /usr/loc\u001b[0m\n",
      "\u001b[34m==>\u001b[0m \u001b[1mxmlcatalog --noout --add rewriteSystem https://cdn.docbook.org/release/xsl/1\u001b[0m\n",
      "\u001b[34m==>\u001b[0m \u001b[1mxmlcatalog --noout --add rewriteURI https://cdn.docbook.org/release/xsl/1.79\u001b[0m\n",
      "\u001b[34m==>\u001b[0m \u001b[1mxmlcatalog --noout --del https://cdn.docbook.org/release/xsl/current /usr/lo\u001b[0m\n",
      "\u001b[34m==>\u001b[0m \u001b[1mxmlcatalog --noout --add rewriteSystem https://cdn.docbook.org/release/xsl/c\u001b[0m\n",
      "\u001b[34m==>\u001b[0m \u001b[1mxmlcatalog --noout --add rewriteURI https://cdn.docbook.org/release/xsl/curr\u001b[0m\n",
      "\u001b[34m==>\u001b[0m \u001b[1mxmlcatalog --noout --del http://docbook.sourceforge.net/release/xsl-ns/1.79.\u001b[0m\n",
      "\u001b[34m==>\u001b[0m \u001b[1mxmlcatalog --noout --add rewriteSystem http://docbook.sourceforge.net/releas\u001b[0m\n",
      "\u001b[34m==>\u001b[0m \u001b[1mxmlcatalog --noout --add rewriteURI http://docbook.sourceforge.net/release/x\u001b[0m\n",
      "\u001b[34m==>\u001b[0m \u001b[1mxmlcatalog --noout --del http://docbook.sourceforge.net/release/xsl-ns/curre\u001b[0m\n",
      "\u001b[34m==>\u001b[0m \u001b[1mxmlcatalog --noout --add rewriteSystem http://docbook.sourceforge.net/releas\u001b[0m\n",
      "\u001b[34m==>\u001b[0m \u001b[1mxmlcatalog --noout --add rewriteURI http://docbook.sourceforge.net/release/x\u001b[0m\n",
      "🍺  /usr/local/Cellar/docbook-xsl/1.79.2_1: 4,910 files, 94.0MB\n",
      "\u001b[32m==>\u001b[0m \u001b[1mInstalling zbar dependency: \u001b[32mgnu-getopt\u001b[39m\u001b[0m\n",
      "\u001b[34m==>\u001b[0m \u001b[1mPouring gnu-getopt--2.37.big_sur.bottle.tar.gz\u001b[0m\n",
      "🍺  /usr/local/Cellar/gnu-getopt/2.37: 10 files, 206.4KB\n",
      "\u001b[32m==>\u001b[0m \u001b[1mInstalling zbar dependency: \u001b[32mxmlto\u001b[39m\u001b[0m\n",
      "\u001b[34m==>\u001b[0m \u001b[1mPouring xmlto--0.0.28.big_sur.bottle.2.tar.gz\u001b[0m\n",
      "🍺  /usr/local/Cellar/xmlto/0.0.28: 46 files, 174.6KB\n",
      "\u001b[32m==>\u001b[0m \u001b[1mInstalling zbar dependency: \u001b[32mshared-mime-info\u001b[39m\u001b[0m\n",
      "\u001b[34m==>\u001b[0m \u001b[1mPouring shared-mime-info--2.1.big_sur.bottle.tar.gz\u001b[0m\n",
      "\u001b[34m==>\u001b[0m \u001b[1m/usr/local/Cellar/shared-mime-info/2.1/bin/update-mime-database /usr/local/s\u001b[0m\n",
      "🍺  /usr/local/Cellar/shared-mime-info/2.1: 86 files, 4.5MB\n",
      "\u001b[32m==>\u001b[0m \u001b[1mInstalling zbar dependency: \u001b[32mlibheif\u001b[39m\u001b[0m\n",
      "\u001b[34m==>\u001b[0m \u001b[1mPouring libheif--1.12.0.big_sur.bottle.tar.gz\u001b[0m\n",
      "\u001b[34m==>\u001b[0m \u001b[1m/usr/local/opt/shared-mime-info/bin/update-mime-database /usr/local/share/mi\u001b[0m\n",
      "🍺  /usr/local/Cellar/libheif/1.12.0: 25 files, 2.8MB\n",
      "\u001b[32m==>\u001b[0m \u001b[1mInstalling zbar dependency: \u001b[32mliblqr\u001b[39m\u001b[0m\n",
      "\u001b[34m==>\u001b[0m \u001b[1mPouring liblqr--0.4.2_1.big_sur.bottle.1.tar.gz\u001b[0m\n",
      "🍺  /usr/local/Cellar/liblqr/0.4.2_1: 25 files, 174.9KB\n",
      "\u001b[32m==>\u001b[0m \u001b[1mInstalling zbar dependency: \u001b[32mlibomp\u001b[39m\u001b[0m\n",
      "\u001b[34m==>\u001b[0m \u001b[1mPouring libomp--12.0.0.big_sur.bottle.tar.gz\u001b[0m\n",
      "🍺  /usr/local/Cellar/libomp/12.0.0: 9 files, 1.5MB\n",
      "\u001b[32m==>\u001b[0m \u001b[1mInstalling zbar dependency: \u001b[32mimath\u001b[39m\u001b[0m\n",
      "\u001b[34m==>\u001b[0m \u001b[1mPouring imath--3.0.4.big_sur.bottle.tar.gz\u001b[0m\n",
      "🍺  /usr/local/Cellar/imath/3.0.4: 49 files, 886.2KB\n",
      "\u001b[32m==>\u001b[0m \u001b[1mInstalling zbar dependency: \u001b[32mopenexr\u001b[39m\u001b[0m\n",
      "\u001b[34m==>\u001b[0m \u001b[1mPouring openexr--3.0.4.big_sur.bottle.tar.gz\u001b[0m\n",
      "🍺  /usr/local/Cellar/openexr/3.0.4: 176 files, 5.3MB\n",
      "\u001b[32m==>\u001b[0m \u001b[1mInstalling zbar dependency: \u001b[32mimagemagick\u001b[39m\u001b[0m\n",
      "\u001b[34m==>\u001b[0m \u001b[1mPouring imagemagick--7.1.0-2.big_sur.bottle.tar.gz\u001b[0m\n",
      "🍺  /usr/local/Cellar/imagemagick/7.1.0-2: 799 files, 30.3MB\n",
      "\u001b[32m==>\u001b[0m \u001b[1mInstalling zbar dependency: \u001b[32mdcraw\u001b[39m\u001b[0m\n",
      "\u001b[34m==>\u001b[0m \u001b[1mPouring dcraw--9.28.0.big_sur.bottle.tar.gz\u001b[0m\n",
      "🍺  /usr/local/Cellar/dcraw/9.28.0: 4 files, 384.4KB\n",
      "\u001b[32m==>\u001b[0m \u001b[1mInstalling zbar dependency: \u001b[32mufraw\u001b[39m\u001b[0m\n",
      "\u001b[34m==>\u001b[0m \u001b[1mPouring ufraw--0.22_3.big_sur.bottle.1.tar.gz\u001b[0m\n",
      "🍺  /usr/local/Cellar/ufraw/0.22_3: 27 files, 2.1MB\n",
      "\u001b[32m==>\u001b[0m \u001b[1mInstalling \u001b[32mzbar\u001b[39m\u001b[0m\n",
      "\u001b[34m==>\u001b[0m \u001b[1mPouring zbar--0.23.90_1.big_sur.bottle.tar.gz\u001b[0m\n",
      "🍺  /usr/local/Cellar/zbar/0.23.90_1: 33 files, 837.2KB\n"
     ]
    }
   ],
   "source": [
    "!brew install zbar"
   ]
  },
  {
   "cell_type": "code",
   "execution_count": null,
   "metadata": {},
   "outputs": [],
   "source": []
  },
  {
   "cell_type": "code",
   "execution_count": null,
   "metadata": {},
   "outputs": [],
   "source": [
    "!pip install Pillow"
   ]
  },
  {
   "cell_type": "code",
   "execution_count": 5,
   "metadata": {},
   "outputs": [
    {
     "data": {
      "text/plain": [
       "[Decoded(data=b'https://www.bilibili.com/', type='QRCODE', rect=Rect(left=42, top=42, width=247, height=247), polygon=[Point(x=42, y=42), Point(x=42, y=287), Point(x=289, y=289), Point(x=287, y=42)])]"
      ]
     },
     "execution_count": 5,
     "metadata": {},
     "output_type": "execute_result"
    }
   ],
   "source": [
    "from pyzbar.pyzbar import decode\n",
    "from PIL import Image\n",
    "decode(Image.open('./output/url_qrcode.png'))"
   ]
  },
  {
   "cell_type": "code",
   "execution_count": null,
   "metadata": {},
   "outputs": [],
   "source": []
  },
  {
   "cell_type": "code",
   "execution_count": null,
   "metadata": {},
   "outputs": [],
   "source": []
  },
  {
   "cell_type": "code",
   "execution_count": null,
   "metadata": {},
   "outputs": [],
   "source": [
    "!pip install opencv-python"
   ]
  },
  {
   "cell_type": "code",
   "execution_count": 6,
   "metadata": {},
   "outputs": [
    {
     "data": {
      "text/plain": [
       "[Decoded(data=b'https://www.bilibili.com/', type='QRCODE', rect=Rect(left=42, top=42, width=247, height=247), polygon=[Point(x=42, y=42), Point(x=42, y=287), Point(x=289, y=289), Point(x=287, y=42)])]"
      ]
     },
     "execution_count": 6,
     "metadata": {},
     "output_type": "execute_result"
    }
   ],
   "source": [
    "from pyzbar.pyzbar import decode\n",
    "import cv2\n",
    "decode(cv2.imread('./output/url_qrcode.png'))"
   ]
  },
  {
   "cell_type": "code",
   "execution_count": null,
   "metadata": {},
   "outputs": [],
   "source": []
  },
  {
   "cell_type": "code",
   "execution_count": null,
   "metadata": {},
   "outputs": [],
   "source": []
  },
  {
   "cell_type": "code",
   "execution_count": 7,
   "metadata": {},
   "outputs": [
    {
     "data": {
      "text/plain": [
       "[Decoded(data=b'1234567890123', type='CODE128', rect=Rect(left=29, top=9, width=286, height=97), polygon=[Point(x=29, y=9), Point(x=29, y=105), Point(x=315, y=106), Point(x=315, y=10)])]"
      ]
     },
     "execution_count": 7,
     "metadata": {},
     "output_type": "execute_result"
    }
   ],
   "source": [
    "from pyzbar.pyzbar import decode\n",
    "from PIL import Image\n",
    "decode(Image.open('./input/bar_code.png'))"
   ]
  },
  {
   "cell_type": "code",
   "execution_count": null,
   "metadata": {},
   "outputs": [],
   "source": []
  }
 ],
 "metadata": {
  "kernelspec": {
   "display_name": "Python 3",
   "language": "python",
   "name": "python3"
  },
  "language_info": {
   "codemirror_mode": {
    "name": "ipython",
    "version": 3
   },
   "file_extension": ".py",
   "mimetype": "text/x-python",
   "name": "python",
   "nbconvert_exporter": "python",
   "pygments_lexer": "ipython3",
   "version": "3.7.7"
  }
 },
 "nbformat": 4,
 "nbformat_minor": 4
}
