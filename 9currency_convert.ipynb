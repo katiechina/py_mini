{
 "cells": [
  {
   "cell_type": "code",
   "execution_count": 1,
   "metadata": {},
   "outputs": [],
   "source": [
    "# https://www.alphavantage.co/documentation/   api key\n",
    "apikey = 'JXKM73M5GEPN2BBI'"
   ]
  },
  {
   "cell_type": "code",
   "execution_count": null,
   "metadata": {},
   "outputs": [],
   "source": [
    "!pip install requests"
   ]
  },
  {
   "cell_type": "code",
   "execution_count": 3,
   "metadata": {},
   "outputs": [
    {
     "name": "stdout",
     "output_type": "stream",
     "text": [
      "requests                                          2.24.0\n",
      "requests-oauthlib                                 1.3.0\n",
      "requests-toolbelt                                 0.9.1\n"
     ]
    }
   ],
   "source": [
    "!pip list | grep requests"
   ]
  },
  {
   "cell_type": "markdown",
   "metadata": {},
   "source": [
    "[alphavantage documentataion](https://www.alphavantage.co/documentation/)\n",
    "\n",
    "apikey = ' '\n",
    "\n",
    "replace the apikey with your own key from [https://www.alphavantage.co/support/#api-key](https://www.alphavantage.co/support/#api-key)"
   ]
  },
  {
   "cell_type": "code",
   "execution_count": 4,
   "metadata": {},
   "outputs": [
    {
     "data": {
      "text/plain": [
       "str"
      ]
     },
     "execution_count": 4,
     "metadata": {},
     "output_type": "execute_result"
    }
   ],
   "source": [
    "type(apikey)"
   ]
  },
  {
   "cell_type": "markdown",
   "metadata": {},
   "source": [
    "## US Dollar to Chinese Yuan 美元转换成人民币"
   ]
  },
  {
   "cell_type": "code",
   "execution_count": 5,
   "metadata": {},
   "outputs": [
    {
     "name": "stdout",
     "output_type": "stream",
     "text": [
      "{'Realtime Currency Exchange Rate': {'1. From_Currency Code': 'USD', '2. From_Currency Name': 'United States Dollar', '3. To_Currency Code': 'CNY', '4. To_Currency Name': 'Chinese Yuan', '5. Exchange Rate': '6.46920000', '6. Last Refreshed': '2021-06-21 13:19:01', '7. Time Zone': 'UTC', '8. Bid Price': '6.46906000', '9. Ask Price': '6.46942000'}}\n"
     ]
    }
   ],
   "source": [
    "import requests\n",
    "\n",
    "url = f'https://www.alphavantage.co/query?function=CURRENCY_EXCHANGE_RATE&from_currency=USD&to_currency=CNY&apikey={apikey}'\n",
    "r = requests.get(url)\n",
    "data = r.json()\n",
    "\n",
    "print(data)"
   ]
  },
  {
   "cell_type": "code",
   "execution_count": null,
   "metadata": {},
   "outputs": [],
   "source": []
  },
  {
   "cell_type": "code",
   "execution_count": null,
   "metadata": {},
   "outputs": [],
   "source": []
  },
  {
   "cell_type": "markdown",
   "metadata": {},
   "source": [
    "## Bitcoin to Chinese Yuan 比特币转换成人民币"
   ]
  },
  {
   "cell_type": "code",
   "execution_count": 6,
   "metadata": {},
   "outputs": [
    {
     "name": "stdout",
     "output_type": "stream",
     "text": [
      "{'Realtime Currency Exchange Rate': {'1. From_Currency Code': 'BTC', '2. From_Currency Name': 'Bitcoin', '3. To_Currency Code': 'CNY', '4. To_Currency Name': 'Chinese Yuan', '5. Exchange Rate': '210656.33760000', '6. Last Refreshed': '2021-06-21 13:20:10', '7. Time Zone': 'UTC', '8. Bid Price': '210656.59632800', '9. Ask Price': '210659.76574600'}}\n"
     ]
    }
   ],
   "source": [
    "import requests\n",
    "\n",
    "url = f'https://www.alphavantage.co/query?function=CURRENCY_EXCHANGE_RATE&from_currency=BTC&to_currency=CNY&apikey={apikey}'\n",
    "r = requests.get(url)\n",
    "data = r.json()\n",
    "\n",
    "print(data)"
   ]
  },
  {
   "cell_type": "code",
   "execution_count": null,
   "metadata": {},
   "outputs": [],
   "source": []
  },
  {
   "cell_type": "code",
   "execution_count": 9,
   "metadata": {},
   "outputs": [
    {
     "data": {
      "text/plain": [
       "'6.46900000'"
      ]
     },
     "execution_count": 9,
     "metadata": {},
     "output_type": "execute_result"
    }
   ],
   "source": [
    "import requests\n",
    "\n",
    "def get_cur(fro, to):\n",
    "    url = f'https://www.alphavantage.co/query?function=CURRENCY_EXCHANGE_RATE&from_currency={fro}&to_currency={to}&apikey={apikey}'\n",
    "    r = requests.get(url)\n",
    "    return r.json()['Realtime Currency Exchange Rate']['5. Exchange Rate']\n",
    "\n",
    "get_cur('USD', 'CNY')"
   ]
  },
  {
   "cell_type": "code",
   "execution_count": null,
   "metadata": {},
   "outputs": [],
   "source": []
  }
 ],
 "metadata": {
  "kernelspec": {
   "display_name": "Python 3",
   "language": "python",
   "name": "python3"
  },
  "language_info": {
   "codemirror_mode": {
    "name": "ipython",
    "version": 3
   },
   "file_extension": ".py",
   "mimetype": "text/x-python",
   "name": "python",
   "nbconvert_exporter": "python",
   "pygments_lexer": "ipython3",
   "version": "3.7.7"
  }
 },
 "nbformat": 4,
 "nbformat_minor": 4
}
